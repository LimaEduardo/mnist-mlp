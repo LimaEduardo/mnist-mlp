{
 "cells": [
  {
   "cell_type": "markdown",
   "metadata": {},
   "source": [
    "# Avaliando o MNIST Dataset usando MLP do scikit-learn\n",
    "\n",
    "## Por: \n",
    "### * Arthur Souza Cruz\n",
    "### * Eduardo Fernando de Lima"
   ]
  },
  {
   "cell_type": "markdown",
   "metadata": {},
   "source": [
    "Importações necessárias para avaliar o dataset.\n",
    "\n",
    "* numpy - Para interagir com o dataset\n",
    "* sklearn - Para importar o MultiLayer Perceptron\n",
    "* matplotlib - Plotar gráficos\n",
    "* keras - Para leitura do dataset\n",
    "* tensorflow - usado como backend do keras"
   ]
  },
  {
   "cell_type": "code",
   "execution_count": 21,
   "metadata": {},
   "outputs": [],
   "source": [
    "%matplotlib inline\n",
    "\n",
    "import warnings\n",
    "import random\n",
    "import json\n",
    "from timeit import default_timer as timer\n",
    "\n",
    "from tqdm import trange\n",
    "from IPython.display import clear_output\n",
    "\n",
    "from keras import datasets\n",
    "\n",
    "import numpy as np\n",
    "\n",
    "from sklearn.neural_network import MLPClassifier\n",
    "from sklearn.datasets import fetch_mldata\n",
    "from sklearn.model_selection import train_test_split\n",
    "from sklearn.datasets.base import get_data_home \n",
    "from sklearn.metrics import classification_report,confusion_matrix\n",
    "import matplotlib.pyplot as plt\n",
    "\n",
    "plt.rcParams['figure.figsize'] = (10, 10)\n",
    "\n"
   ]
  },
  {
   "cell_type": "markdown",
   "metadata": {},
   "source": [
    "Definindo tamanho (em porcentagem) do Dataset"
   ]
  },
  {
   "cell_type": "code",
   "execution_count": 22,
   "metadata": {},
   "outputs": [],
   "source": [
    "TRANING_DATASET_SIZE = 0.8\n",
    "TEST_DATASET_SIZE = 0.2"
   ]
  },
  {
   "cell_type": "markdown",
   "metadata": {},
   "source": [
    "O código a seguir ignora os warnings (por conta de funções deprecated no scikit-learn que sujam a saida)\n",
    "\n",
    "Em seguida, baixamos o dataset MNIST original que vai ser salvo na pasta home do sckit-learn"
   ]
  },
  {
   "cell_type": "code",
   "execution_count": 23,
   "metadata": {
    "scrolled": true
   },
   "outputs": [
    {
     "name": "stdout",
     "output_type": "stream",
     "text": [
      "Downloading MNIST data\n",
      "Downloading at: /home/eduardo/scikit_learn_data\n",
      "Downloaded and loaded!\n"
     ]
    }
   ],
   "source": [
    "\n",
    "#Ignorando os warnings\n",
    "warnings.filterwarnings(\"ignore\", category=DeprecationWarning)\n",
    "print('Downloading MNIST data')\n",
    "print(f\"Downloading at: {get_data_home()}\")\n",
    "mnist_dataset = fetch_mldata('MNIST original')\n",
    "print('Downloaded and loaded!')\n",
    "    "
   ]
  },
  {
   "cell_type": "markdown",
   "metadata": {},
   "source": [
    "* Separando os dados dos resultados reais (targets)\n",
    "* Em seguida, de forma randômica, separamos os conjuntos de teste e de treino."
   ]
  },
  {
   "cell_type": "code",
   "execution_count": 24,
   "metadata": {},
   "outputs": [
    {
     "name": "stdout",
     "output_type": "stream",
     "text": [
      "Training dataset size: 56000\n",
      "Test dataset size: 14000\n"
     ]
    }
   ],
   "source": [
    "data = mnist_dataset.data\n",
    "target = mnist_dataset.target\n",
    "\n",
    "data_train, data_test, target_train, target_test = train_test_split(data, target, test_size=TEST_DATASET_SIZE, random_state=42)\n",
    "\n",
    "print(f\"Training dataset size: {len(data_train)}\")\n",
    "print(f\"Test dataset size: {len(data_test)}\")"
   ]
  },
  {
   "cell_type": "markdown",
   "metadata": {},
   "source": [
    "Imprime algumas imagens de exemplo do dataset"
   ]
  },
  {
   "cell_type": "code",
   "execution_count": 25,
   "metadata": {},
   "outputs": [
    {
     "data": {
      "image/png": "[encoded data removed]",
      "text/plain": [
       "<Figure size 720x720 with 10 Axes>"
      ]
     },
     "metadata": {
      "needs_background": "light"
     },
     "output_type": "display_data"
    }
   ],
   "source": [
    "fig, ax = plt.subplots(2,5)\n",
    "for i, ax in enumerate(ax.flatten()):\n",
    "    im_idx = np.argwhere(target == i)[0]\n",
    "    plottable_image = np.reshape(data[im_idx], (28, 28))\n",
    "    ax.imshow(plottable_image, cmap='gray_r')"
   ]
  },
  {
   "cell_type": "markdown",
   "metadata": {},
   "source": [
    "Imprime a representação de um dos números do dataset"
   ]
  },
  {
   "cell_type": "code",
   "execution_count": 26,
   "metadata": {},
   "outputs": [
    {
     "data": {
      "text/plain": [
       "<matplotlib.image.AxesImage at 0x7fc9f2650a20>"
      ]
     },
     "execution_count": 26,
     "metadata": {},
     "output_type": "execute_result"
    },
    {
     "data": {
      "image/png": "[encoded data removed]",
      "text/plain": [
       "<Figure size 720x720 with 1 Axes>"
      ]
     },
     "metadata": {
      "needs_background": "light"
     },
     "output_type": "display_data"
    }
   ],
   "source": [
    "fig, ax = plt.subplots(1)\n",
    "im_idx = 34567\n",
    "plottable_image = np.reshape(data[im_idx], (28, 28))\n",
    "ax.imshow(plottable_image, cmap='gray_r')"
   ]
  },
  {
   "cell_type": "markdown",
   "metadata": {},
   "source": [
    "Imprime a matriz com os valores da imagem anterior"
   ]
  },
  {
   "cell_type": "code",
   "execution_count": 27,
   "metadata": {},
   "outputs": [
    {
     "name": "stdout",
     "output_type": "stream",
     "text": [
      "\n",
      "\n",
      "0 0 0 0 0 0 0 0 0 0 0 0 0 0 0 0 0 0 0 0 0 0 0 0 0 0 0 0 \n",
      "\n",
      "0 0 0 0 0 0 0 0 0 0 0 0 0 0 0 0 0 0 0 0 0 0 0 0 0 0 0 0 \n",
      "\n",
      "0 0 0 0 0 0 0 0 0 0 0 0 0 0 0 0 0 0 0 0 0 0 0 0 0 0 0 0 \n",
      "\n",
      "0 0 0 0 0 0 0 0 0 0 0 0 0 0 0 0 0 0 0 0 0 0 0 0 0 0 0 0 \n",
      "\n",
      "0 0 0 0 0 0 0 0 0 0 0 0 0 0 0 0 0 0 0 0 0 0 0 0 0 0 0 0 \n",
      "\n",
      "0 0 0 0 0 0 0 0 0 0 0 0 0 0 0 0 0 0 0 0 0 0 0 0 0 0 0 0 \n",
      "\n",
      "0 0 0 0 0 0 0 0 0 0 0 0 0 0 0 0 0 0 0 0 0 0 0 0 0 0 0 0 \n",
      "\n",
      "0 0 0 0 0 0 0 0 0 0 0 0 0 0 0 0 0 0 0 0 0 0 0 0 0 0 0 0 \n",
      "\n",
      "0 0 0 0 0 0 0 0 0 0 0 0 0 0 3 124 221 13 0 0 18 19 66 154 93 0 0 0 \n",
      "\n",
      "0 0 0 0 0 0 0 0 0 0 0 0 0 70 208 254 248 157 200 200 251 230 203 203 117 0 0 0 \n",
      "\n",
      "0 0 0 0 0 0 0 0 0 0 0 4 81 244 253 223 169 169 163 96 49 12 0 0 0 0 0 0 \n",
      "\n",
      "0 0 0 0 0 0 0 0 0 0 38 185 254 254 106 0 0 0 0 0 0 0 0 0 0 0 0 0 \n",
      "\n",
      "0 0 0 0 0 0 0 0 0 6 208 254 254 254 233 226 152 73 2 0 0 0 0 0 0 0 0 0 \n",
      "\n",
      "0 0 0 0 0 0 0 0 0 6 107 165 143 143 143 143 178 254 138 0 0 0 0 0 0 0 0 0 \n",
      "\n",
      "0 0 0 0 0 0 0 0 0 0 0 0 0 0 0 0 5 175 200 0 0 0 0 0 0 0 0 0 \n",
      "\n",
      "0 0 0 0 0 0 0 0 0 0 0 0 0 0 0 0 21 219 189 0 0 0 0 0 0 0 0 0 \n",
      "\n",
      "0 0 0 0 0 98 118 64 12 0 0 0 0 0 0 0 192 254 71 0 0 0 0 0 0 0 0 0 \n",
      "\n",
      "0 0 0 0 0 224 254 254 246 239 155 97 97 98 170 212 237 98 4 0 0 0 0 0 0 0 0 0 \n",
      "\n",
      "0 0 0 0 0 99 213 254 254 254 254 254 254 254 230 135 53 0 0 0 0 0 0 0 0 0 0 0 \n",
      "\n",
      "0 0 0 0 0 0 5 26 110 160 92 92 92 70 11 0 0 0 0 0 0 0 0 0 0 0 0 0 \n",
      "\n",
      "0 0 0 0 0 0 0 0 0 0 0 0 0 0 0 0 0 0 0 0 0 0 0 0 0 0 0 0 \n",
      "\n",
      "0 0 0 0 0 0 0 0 0 0 0 0 0 0 0 0 0 0 0 0 0 0 0 0 0 0 0 0 \n",
      "\n",
      "0 0 0 0 0 0 0 0 0 0 0 0 0 0 0 0 0 0 0 0 0 0 0 0 0 0 0 0 \n",
      "\n",
      "0 0 0 0 0 0 0 0 0 0 0 0 0 0 0 0 0 0 0 0 0 0 0 0 0 0 0 0 \n",
      "\n",
      "0 0 0 0 0 0 0 0 0 0 0 0 0 0 0 0 0 0 0 0 0 0 0 0 0 0 0 0 \n",
      "\n",
      "0 0 0 0 0 0 0 0 0 0 0 0 0 0 0 0 0 0 0 0 0 0 0 0 0 0 0 0 \n",
      "\n",
      "0 0 0 0 0 0 0 0 0 0 0 0 0 0 0 0 0 0 0 0 0 0 0 0 0 0 0 0 \n",
      "\n",
      "0 0 0 0 0 0 0 0 0 0 0 0 0 0 0 0 0 0 0 0 0 0 0 0 0 0 0 0 "
     ]
    }
   ],
   "source": [
    "for index, value in enumerate(data[im_idx]):\n",
    "    if index % 28 == 0: print(\"\\n\")\n",
    "    print(f\"{value} \", end=\"\")"
   ]
  },
  {
   "cell_type": "markdown",
   "metadata": {},
   "source": [
    "Para este estudo, gostariamos de testar para diferentes solvers e diferentes tipos de layers.\n",
    "\n",
    "Os passos então são:\n",
    "    * Para cada solver\n",
    "        * Para cada hidden layer\n",
    "            - Classificamos com o solver e a quantidade de hidden layers\n",
    "            - Treinamos o classificador\n",
    "            - Tiramos a acurácia para o conjunto de treino e teste\n",
    "            - Guardamos estes dados para comparações futuramente.\n",
    "\n",
    "**ATENÇÃO**\n",
    "\n",
    "**ESTE TRECHO PODE DEMORAR BASTANTE PARA EXECUTAR DEVIDO AO TAMANHO DO DATASET.**\n",
    "\n",
    "**O ARQUIVO results.json JÁ POSSUI OS RESULTADOS. RECOMENDA-SE PULAR DUAS CÉLULAS**\n",
    "\n",
    "**CASO NÃO QUEIRA RODAR NOVOS TESTES**"
   ]
  },
  {
   "cell_type": "code",
   "execution_count": 47,
   "metadata": {},
   "outputs": [
    {
     "name": "stdout",
     "output_type": "stream",
     "text": [
      "784\n",
      "Fitting model with solver lbfgs and iterations (10, 10, 10, 10)\n",
      "ok\n"
     ]
    },
    {
     "ename": "KeyboardInterrupt",
     "evalue": "",
     "output_type": "error",
     "traceback": [
      "\u001b[0;31m---------------------------------------------------------------------------\u001b[0m",
      "\u001b[0;31mKeyboardInterrupt\u001b[0m                         Traceback (most recent call last)",
      "\u001b[0;32m<ipython-input-47-ba46fa04bf05>\u001b[0m in \u001b[0;36m<module>\u001b[0;34m\u001b[0m\n\u001b[1;32m     11\u001b[0m         \u001b[0mprint\u001b[0m\u001b[0;34m(\u001b[0m\u001b[0;34mf\"Fitting model with solver {solver} and iterations {hidden_layer}\"\u001b[0m\u001b[0;34m)\u001b[0m\u001b[0;34m\u001b[0m\u001b[0;34m\u001b[0m\u001b[0m\n\u001b[1;32m     12\u001b[0m         \u001b[0mprint\u001b[0m\u001b[0;34m(\u001b[0m\u001b[0;34m\"ok\"\u001b[0m\u001b[0;34m)\u001b[0m\u001b[0;34m\u001b[0m\u001b[0;34m\u001b[0m\u001b[0m\n\u001b[0;32m---> 13\u001b[0;31m         \u001b[0mmlp_classifier\u001b[0m\u001b[0;34m.\u001b[0m\u001b[0mfit\u001b[0m\u001b[0;34m(\u001b[0m\u001b[0mdata_train\u001b[0m\u001b[0;34m,\u001b[0m\u001b[0mtarget_train\u001b[0m\u001b[0;34m)\u001b[0m\u001b[0;34m\u001b[0m\u001b[0;34m\u001b[0m\u001b[0m\n\u001b[0m\u001b[1;32m     14\u001b[0m         \u001b[0mprint\u001b[0m\u001b[0;34m(\u001b[0m\u001b[0;34m\"ok\"\u001b[0m\u001b[0;34m)\u001b[0m\u001b[0;34m\u001b[0m\u001b[0;34m\u001b[0m\u001b[0m\n\u001b[1;32m     15\u001b[0m         \u001b[0mprint\u001b[0m\u001b[0;34m(\u001b[0m\u001b[0;34m\"Fitting model ended\"\u001b[0m\u001b[0;34m)\u001b[0m\u001b[0;34m\u001b[0m\u001b[0;34m\u001b[0m\u001b[0m\n",
      "\u001b[0;32m~/.local/lib/python3.6/site-packages/sklearn/neural_network/multilayer_perceptron.py\u001b[0m in \u001b[0;36mfit\u001b[0;34m(self, X, y)\u001b[0m\n\u001b[1;32m    975\u001b[0m         \"\"\"\n\u001b[1;32m    976\u001b[0m         return self._fit(X, y, incremental=(self.warm_start and\n\u001b[0;32m--> 977\u001b[0;31m                                             hasattr(self, \"classes_\")))\n\u001b[0m\u001b[1;32m    978\u001b[0m \u001b[0;34m\u001b[0m\u001b[0m\n\u001b[1;32m    979\u001b[0m     \u001b[0;34m@\u001b[0m\u001b[0mproperty\u001b[0m\u001b[0;34m\u001b[0m\u001b[0;34m\u001b[0m\u001b[0m\n",
      "\u001b[0;32m~/.local/lib/python3.6/site-packages/sklearn/neural_network/multilayer_perceptron.py\u001b[0m in \u001b[0;36m_fit\u001b[0;34m(self, X, y, incremental)\u001b[0m\n\u001b[1;32m    374\u001b[0m         \u001b[0;32melif\u001b[0m \u001b[0mself\u001b[0m\u001b[0;34m.\u001b[0m\u001b[0msolver\u001b[0m \u001b[0;34m==\u001b[0m \u001b[0;34m'lbfgs'\u001b[0m\u001b[0;34m:\u001b[0m\u001b[0;34m\u001b[0m\u001b[0;34m\u001b[0m\u001b[0m\n\u001b[1;32m    375\u001b[0m             self._fit_lbfgs(X, y, activations, deltas, coef_grads,\n\u001b[0;32m--> 376\u001b[0;31m                             intercept_grads, layer_units)\n\u001b[0m\u001b[1;32m    377\u001b[0m         \u001b[0;32mreturn\u001b[0m \u001b[0mself\u001b[0m\u001b[0;34m\u001b[0m\u001b[0;34m\u001b[0m\u001b[0m\n\u001b[1;32m    378\u001b[0m \u001b[0;34m\u001b[0m\u001b[0m\n",
      "\u001b[0;32m~/.local/lib/python3.6/site-packages/sklearn/neural_network/multilayer_perceptron.py\u001b[0m in \u001b[0;36m_fit_lbfgs\u001b[0;34m(self, X, y, activations, deltas, coef_grads, intercept_grads, layer_units)\u001b[0m\n\u001b[1;32m    464\u001b[0m             \u001b[0miprint\u001b[0m\u001b[0;34m=\u001b[0m\u001b[0miprint\u001b[0m\u001b[0;34m,\u001b[0m\u001b[0;34m\u001b[0m\u001b[0;34m\u001b[0m\u001b[0m\n\u001b[1;32m    465\u001b[0m             \u001b[0mpgtol\u001b[0m\u001b[0;34m=\u001b[0m\u001b[0mself\u001b[0m\u001b[0;34m.\u001b[0m\u001b[0mtol\u001b[0m\u001b[0;34m,\u001b[0m\u001b[0;34m\u001b[0m\u001b[0;34m\u001b[0m\u001b[0m\n\u001b[0;32m--> 466\u001b[0;31m             args=(X, y, activations, deltas, coef_grads, intercept_grads))\n\u001b[0m\u001b[1;32m    467\u001b[0m \u001b[0;34m\u001b[0m\u001b[0m\n\u001b[1;32m    468\u001b[0m         \u001b[0mself\u001b[0m\u001b[0;34m.\u001b[0m\u001b[0m_unpack\u001b[0m\u001b[0;34m(\u001b[0m\u001b[0moptimal_parameters\u001b[0m\u001b[0;34m)\u001b[0m\u001b[0;34m\u001b[0m\u001b[0;34m\u001b[0m\u001b[0m\n",
      "\u001b[0;32m~/.local/lib/python3.6/site-packages/scipy/optimize/lbfgsb.py\u001b[0m in \u001b[0;36mfmin_l_bfgs_b\u001b[0;34m(func, x0, fprime, args, approx_grad, bounds, m, factr, pgtol, epsilon, iprint, maxfun, maxiter, disp, callback, maxls)\u001b[0m\n\u001b[1;32m    197\u001b[0m \u001b[0;34m\u001b[0m\u001b[0m\n\u001b[1;32m    198\u001b[0m     res = _minimize_lbfgsb(fun, x0, args=args, jac=jac, bounds=bounds,\n\u001b[0;32m--> 199\u001b[0;31m                            **opts)\n\u001b[0m\u001b[1;32m    200\u001b[0m     d = {'grad': res['jac'],\n\u001b[1;32m    201\u001b[0m          \u001b[0;34m'task'\u001b[0m\u001b[0;34m:\u001b[0m \u001b[0mres\u001b[0m\u001b[0;34m[\u001b[0m\u001b[0;34m'message'\u001b[0m\u001b[0;34m]\u001b[0m\u001b[0;34m,\u001b[0m\u001b[0;34m\u001b[0m\u001b[0;34m\u001b[0m\u001b[0m\n",
      "\u001b[0;32m~/.local/lib/python3.6/site-packages/scipy/optimize/lbfgsb.py\u001b[0m in \u001b[0;36m_minimize_lbfgsb\u001b[0;34m(fun, x0, args, jac, bounds, disp, maxcor, ftol, gtol, eps, maxfun, maxiter, iprint, callback, maxls, **unknown_options)\u001b[0m\n\u001b[1;32m    333\u001b[0m             \u001b[0;31m# until the completion of the current minimization iteration.\u001b[0m\u001b[0;34m\u001b[0m\u001b[0;34m\u001b[0m\u001b[0;34m\u001b[0m\u001b[0m\n\u001b[1;32m    334\u001b[0m             \u001b[0;31m# Overwrite f and g:\u001b[0m\u001b[0;34m\u001b[0m\u001b[0;34m\u001b[0m\u001b[0;34m\u001b[0m\u001b[0m\n\u001b[0;32m--> 335\u001b[0;31m             \u001b[0mf\u001b[0m\u001b[0;34m,\u001b[0m \u001b[0mg\u001b[0m \u001b[0;34m=\u001b[0m \u001b[0mfunc_and_grad\u001b[0m\u001b[0;34m(\u001b[0m\u001b[0mx\u001b[0m\u001b[0;34m)\u001b[0m\u001b[0;34m\u001b[0m\u001b[0;34m\u001b[0m\u001b[0m\n\u001b[0m\u001b[1;32m    336\u001b[0m         \u001b[0;32melif\u001b[0m \u001b[0mtask_str\u001b[0m\u001b[0;34m.\u001b[0m\u001b[0mstartswith\u001b[0m\u001b[0;34m(\u001b[0m\u001b[0;34mb'NEW_X'\u001b[0m\u001b[0;34m)\u001b[0m\u001b[0;34m:\u001b[0m\u001b[0;34m\u001b[0m\u001b[0;34m\u001b[0m\u001b[0m\n\u001b[1;32m    337\u001b[0m             \u001b[0;31m# new iteration\u001b[0m\u001b[0;34m\u001b[0m\u001b[0;34m\u001b[0m\u001b[0;34m\u001b[0m\u001b[0m\n",
      "\u001b[0;32m~/.local/lib/python3.6/site-packages/scipy/optimize/lbfgsb.py\u001b[0m in \u001b[0;36mfunc_and_grad\u001b[0;34m(x)\u001b[0m\n\u001b[1;32m    283\u001b[0m     \u001b[0;32melse\u001b[0m\u001b[0;34m:\u001b[0m\u001b[0;34m\u001b[0m\u001b[0;34m\u001b[0m\u001b[0m\n\u001b[1;32m    284\u001b[0m         \u001b[0;32mdef\u001b[0m \u001b[0mfunc_and_grad\u001b[0m\u001b[0;34m(\u001b[0m\u001b[0mx\u001b[0m\u001b[0;34m)\u001b[0m\u001b[0;34m:\u001b[0m\u001b[0;34m\u001b[0m\u001b[0;34m\u001b[0m\u001b[0m\n\u001b[0;32m--> 285\u001b[0;31m             \u001b[0mf\u001b[0m \u001b[0;34m=\u001b[0m \u001b[0mfun\u001b[0m\u001b[0;34m(\u001b[0m\u001b[0mx\u001b[0m\u001b[0;34m,\u001b[0m \u001b[0;34m*\u001b[0m\u001b[0margs\u001b[0m\u001b[0;34m)\u001b[0m\u001b[0;34m\u001b[0m\u001b[0;34m\u001b[0m\u001b[0m\n\u001b[0m\u001b[1;32m    286\u001b[0m             \u001b[0mg\u001b[0m \u001b[0;34m=\u001b[0m \u001b[0mjac\u001b[0m\u001b[0;34m(\u001b[0m\u001b[0mx\u001b[0m\u001b[0;34m,\u001b[0m \u001b[0;34m*\u001b[0m\u001b[0margs\u001b[0m\u001b[0;34m)\u001b[0m\u001b[0;34m\u001b[0m\u001b[0;34m\u001b[0m\u001b[0m\n\u001b[1;32m    287\u001b[0m             \u001b[0;32mreturn\u001b[0m \u001b[0mf\u001b[0m\u001b[0;34m,\u001b[0m \u001b[0mg\u001b[0m\u001b[0;34m\u001b[0m\u001b[0;34m\u001b[0m\u001b[0m\n",
      "\u001b[0;32m~/.local/lib/python3.6/site-packages/scipy/optimize/optimize.py\u001b[0m in \u001b[0;36mfunction_wrapper\u001b[0;34m(*wrapper_args)\u001b[0m\n\u001b[1;32m    298\u001b[0m     \u001b[0;32mdef\u001b[0m \u001b[0mfunction_wrapper\u001b[0m\u001b[0;34m(\u001b[0m\u001b[0;34m*\u001b[0m\u001b[0mwrapper_args\u001b[0m\u001b[0;34m)\u001b[0m\u001b[0;34m:\u001b[0m\u001b[0;34m\u001b[0m\u001b[0;34m\u001b[0m\u001b[0m\n\u001b[1;32m    299\u001b[0m         \u001b[0mncalls\u001b[0m\u001b[0;34m[\u001b[0m\u001b[0;36m0\u001b[0m\u001b[0;34m]\u001b[0m \u001b[0;34m+=\u001b[0m \u001b[0;36m1\u001b[0m\u001b[0;34m\u001b[0m\u001b[0;34m\u001b[0m\u001b[0m\n\u001b[0;32m--> 300\u001b[0;31m         \u001b[0;32mreturn\u001b[0m \u001b[0mfunction\u001b[0m\u001b[0;34m(\u001b[0m\u001b[0;34m*\u001b[0m\u001b[0;34m(\u001b[0m\u001b[0mwrapper_args\u001b[0m \u001b[0;34m+\u001b[0m \u001b[0margs\u001b[0m\u001b[0;34m)\u001b[0m\u001b[0;34m)\u001b[0m\u001b[0;34m\u001b[0m\u001b[0;34m\u001b[0m\u001b[0m\n\u001b[0m\u001b[1;32m    301\u001b[0m \u001b[0;34m\u001b[0m\u001b[0m\n\u001b[1;32m    302\u001b[0m     \u001b[0;32mreturn\u001b[0m \u001b[0mncalls\u001b[0m\u001b[0;34m,\u001b[0m \u001b[0mfunction_wrapper\u001b[0m\u001b[0;34m\u001b[0m\u001b[0;34m\u001b[0m\u001b[0m\n",
      "\u001b[0;32m~/.local/lib/python3.6/site-packages/scipy/optimize/optimize.py\u001b[0m in \u001b[0;36m__call__\u001b[0;34m(self, x, *args)\u001b[0m\n\u001b[1;32m     61\u001b[0m     \u001b[0;32mdef\u001b[0m \u001b[0m__call__\u001b[0m\u001b[0;34m(\u001b[0m\u001b[0mself\u001b[0m\u001b[0;34m,\u001b[0m \u001b[0mx\u001b[0m\u001b[0;34m,\u001b[0m \u001b[0;34m*\u001b[0m\u001b[0margs\u001b[0m\u001b[0;34m)\u001b[0m\u001b[0;34m:\u001b[0m\u001b[0;34m\u001b[0m\u001b[0;34m\u001b[0m\u001b[0m\n\u001b[1;32m     62\u001b[0m         \u001b[0mself\u001b[0m\u001b[0;34m.\u001b[0m\u001b[0mx\u001b[0m \u001b[0;34m=\u001b[0m \u001b[0mnumpy\u001b[0m\u001b[0;34m.\u001b[0m\u001b[0masarray\u001b[0m\u001b[0;34m(\u001b[0m\u001b[0mx\u001b[0m\u001b[0;34m)\u001b[0m\u001b[0;34m.\u001b[0m\u001b[0mcopy\u001b[0m\u001b[0;34m(\u001b[0m\u001b[0;34m)\u001b[0m\u001b[0;34m\u001b[0m\u001b[0;34m\u001b[0m\u001b[0m\n\u001b[0;32m---> 63\u001b[0;31m         \u001b[0mfg\u001b[0m \u001b[0;34m=\u001b[0m \u001b[0mself\u001b[0m\u001b[0;34m.\u001b[0m\u001b[0mfun\u001b[0m\u001b[0;34m(\u001b[0m\u001b[0mx\u001b[0m\u001b[0;34m,\u001b[0m \u001b[0;34m*\u001b[0m\u001b[0margs\u001b[0m\u001b[0;34m)\u001b[0m\u001b[0;34m\u001b[0m\u001b[0;34m\u001b[0m\u001b[0m\n\u001b[0m\u001b[1;32m     64\u001b[0m         \u001b[0mself\u001b[0m\u001b[0;34m.\u001b[0m\u001b[0mjac\u001b[0m \u001b[0;34m=\u001b[0m \u001b[0mfg\u001b[0m\u001b[0;34m[\u001b[0m\u001b[0;36m1\u001b[0m\u001b[0;34m]\u001b[0m\u001b[0;34m\u001b[0m\u001b[0;34m\u001b[0m\u001b[0m\n\u001b[1;32m     65\u001b[0m         \u001b[0;32mreturn\u001b[0m \u001b[0mfg\u001b[0m\u001b[0;34m[\u001b[0m\u001b[0;36m0\u001b[0m\u001b[0;34m]\u001b[0m\u001b[0;34m\u001b[0m\u001b[0;34m\u001b[0m\u001b[0m\n",
      "\u001b[0;32m~/.local/lib/python3.6/site-packages/sklearn/neural_network/multilayer_perceptron.py\u001b[0m in \u001b[0;36m_loss_grad_lbfgs\u001b[0;34m(self, packed_coef_inter, X, y, activations, deltas, coef_grads, intercept_grads)\u001b[0m\n\u001b[1;32m    173\u001b[0m         \u001b[0mself\u001b[0m\u001b[0;34m.\u001b[0m\u001b[0m_unpack\u001b[0m\u001b[0;34m(\u001b[0m\u001b[0mpacked_coef_inter\u001b[0m\u001b[0;34m)\u001b[0m\u001b[0;34m\u001b[0m\u001b[0;34m\u001b[0m\u001b[0m\n\u001b[1;32m    174\u001b[0m         loss, coef_grads, intercept_grads = self._backprop(\n\u001b[0;32m--> 175\u001b[0;31m             X, y, activations, deltas, coef_grads, intercept_grads)\n\u001b[0m\u001b[1;32m    176\u001b[0m         \u001b[0mself\u001b[0m\u001b[0;34m.\u001b[0m\u001b[0mn_iter_\u001b[0m \u001b[0;34m+=\u001b[0m \u001b[0;36m1\u001b[0m\u001b[0;34m\u001b[0m\u001b[0;34m\u001b[0m\u001b[0m\n\u001b[1;32m    177\u001b[0m         \u001b[0mgrad\u001b[0m \u001b[0;34m=\u001b[0m \u001b[0m_pack\u001b[0m\u001b[0;34m(\u001b[0m\u001b[0mcoef_grads\u001b[0m\u001b[0;34m,\u001b[0m \u001b[0mintercept_grads\u001b[0m\u001b[0;34m)\u001b[0m\u001b[0;34m\u001b[0m\u001b[0;34m\u001b[0m\u001b[0m\n",
      "\u001b[0;32m~/.local/lib/python3.6/site-packages/sklearn/neural_network/multilayer_perceptron.py\u001b[0m in \u001b[0;36m_backprop\u001b[0;34m(self, X, y, activations, deltas, coef_grads, intercept_grads)\u001b[0m\n\u001b[1;32m    251\u001b[0m             coef_grads, intercept_grads = self._compute_loss_grad(\n\u001b[1;32m    252\u001b[0m                 \u001b[0mi\u001b[0m \u001b[0;34m-\u001b[0m \u001b[0;36m1\u001b[0m\u001b[0;34m,\u001b[0m \u001b[0mn_samples\u001b[0m\u001b[0;34m,\u001b[0m \u001b[0mactivations\u001b[0m\u001b[0;34m,\u001b[0m \u001b[0mdeltas\u001b[0m\u001b[0;34m,\u001b[0m \u001b[0mcoef_grads\u001b[0m\u001b[0;34m,\u001b[0m\u001b[0;34m\u001b[0m\u001b[0;34m\u001b[0m\u001b[0m\n\u001b[0;32m--> 253\u001b[0;31m                 intercept_grads)\n\u001b[0m\u001b[1;32m    254\u001b[0m \u001b[0;34m\u001b[0m\u001b[0m\n\u001b[1;32m    255\u001b[0m         \u001b[0;32mreturn\u001b[0m \u001b[0mloss\u001b[0m\u001b[0;34m,\u001b[0m \u001b[0mcoef_grads\u001b[0m\u001b[0;34m,\u001b[0m \u001b[0mintercept_grads\u001b[0m\u001b[0;34m\u001b[0m\u001b[0;34m\u001b[0m\u001b[0m\n",
      "\u001b[0;32m~/.local/lib/python3.6/site-packages/sklearn/neural_network/multilayer_perceptron.py\u001b[0m in \u001b[0;36m_compute_loss_grad\u001b[0;34m(self, layer, n_samples, activations, deltas, coef_grads, intercept_grads)\u001b[0m\n\u001b[1;32m    121\u001b[0m         \"\"\"\n\u001b[1;32m    122\u001b[0m         coef_grads[layer] = safe_sparse_dot(activations[layer].T,\n\u001b[0;32m--> 123\u001b[0;31m                                             deltas[layer])\n\u001b[0m\u001b[1;32m    124\u001b[0m         \u001b[0mcoef_grads\u001b[0m\u001b[0;34m[\u001b[0m\u001b[0mlayer\u001b[0m\u001b[0;34m]\u001b[0m \u001b[0;34m+=\u001b[0m \u001b[0;34m(\u001b[0m\u001b[0mself\u001b[0m\u001b[0;34m.\u001b[0m\u001b[0malpha\u001b[0m \u001b[0;34m*\u001b[0m \u001b[0mself\u001b[0m\u001b[0;34m.\u001b[0m\u001b[0mcoefs_\u001b[0m\u001b[0;34m[\u001b[0m\u001b[0mlayer\u001b[0m\u001b[0;34m]\u001b[0m\u001b[0;34m)\u001b[0m\u001b[0;34m\u001b[0m\u001b[0;34m\u001b[0m\u001b[0m\n\u001b[1;32m    125\u001b[0m         \u001b[0mcoef_grads\u001b[0m\u001b[0;34m[\u001b[0m\u001b[0mlayer\u001b[0m\u001b[0;34m]\u001b[0m \u001b[0;34m/=\u001b[0m \u001b[0mn_samples\u001b[0m\u001b[0;34m\u001b[0m\u001b[0;34m\u001b[0m\u001b[0m\n",
      "\u001b[0;32m~/.local/lib/python3.6/site-packages/sklearn/utils/extmath.py\u001b[0m in \u001b[0;36msafe_sparse_dot\u001b[0;34m(a, b, dense_output)\u001b[0m\n\u001b[1;32m    171\u001b[0m         \u001b[0;32mreturn\u001b[0m \u001b[0mret\u001b[0m\u001b[0;34m\u001b[0m\u001b[0;34m\u001b[0m\u001b[0m\n\u001b[1;32m    172\u001b[0m     \u001b[0;32melse\u001b[0m\u001b[0;34m:\u001b[0m\u001b[0;34m\u001b[0m\u001b[0;34m\u001b[0m\u001b[0m\n\u001b[0;32m--> 173\u001b[0;31m         \u001b[0;32mreturn\u001b[0m \u001b[0mnp\u001b[0m\u001b[0;34m.\u001b[0m\u001b[0mdot\u001b[0m\u001b[0;34m(\u001b[0m\u001b[0ma\u001b[0m\u001b[0;34m,\u001b[0m \u001b[0mb\u001b[0m\u001b[0;34m)\u001b[0m\u001b[0;34m\u001b[0m\u001b[0;34m\u001b[0m\u001b[0m\n\u001b[0m\u001b[1;32m    174\u001b[0m \u001b[0;34m\u001b[0m\u001b[0m\n\u001b[1;32m    175\u001b[0m \u001b[0;34m\u001b[0m\u001b[0m\n",
      "\u001b[0;31mKeyboardInterrupt\u001b[0m: "
     ]
    }
   ],
   "source": [
    "solvers = [\"lbfgs\", \"sgd\", \"adam\"]\n",
    "hidden_layers = [(10,10,10,10), (64,64,64,64), (128,128,128,128), (64, 128, 64, 10), (128,128), (64,64)]\n",
    "\n",
    "datadumps = []\n",
    "\n",
    "for solver in solvers:\n",
    "    for hidden_layer in hidden_layers:\n",
    "        print(len(data_train[0]))\n",
    "        start = timer()\n",
    "        mlp_classifier = MLPClassifier(solver = solver, hidden_layer_sizes=hidden_layer, verbose=True, max_iter=200, alpha=0.0001, tol=1e-4)\n",
    "        print(f\"Fitting model with solver {solver} and iterations {hidden_layer}\")\n",
    "        print(\"ok\")\n",
    "        mlp_classifier.fit(data_train,target_train)\n",
    "        print(\"ok\")\n",
    "        print(\"Fitting model ended\")\n",
    "        end = timer()\n",
    "        \n",
    "        \n",
    "        training_set_score = mlp_classifier.score(data_train, target_train)\n",
    "        test_set_score = mlp_classifier.score(data_test, target_test)\n",
    "        \n",
    "        datadump = {\"Solver\": solver, \"Hidden Layers\" : hidden_layer, \"Training set score\": training_set_score, \"Test set score\" : test_set_score, \"Time spent\": end - start}\n",
    "        datadumps.append(datadump)\n",
    "\n",
    "file = open(\"results.json\",\"w\") \n",
    "file.write(json.dumps(datadumps))\n",
    "file.close()\n",
    "\n",
    "\n"
   ]
  },
  {
   "cell_type": "markdown",
   "metadata": {},
   "source": [
    "Exportamos o resultado para um json para que possa ser comparado com outros resultados em outros notebooks"
   ]
  },
  {
   "cell_type": "code",
   "execution_count": 28,
   "metadata": {},
   "outputs": [
    {
     "name": "stdout",
     "output_type": "stream",
     "text": [
      "[{'Solver': 'lbfgs', 'Hidden Layers': [10, 10, 10, 10], 'Training set score': 0.3710535714285714, 'Test set score': 0.3737142857142857, 'Time spent': 147.8634598}, {'Solver': 'lbfgs', 'Hidden Layers': [64, 64, 64, 64], 'Training set score': 0.9975892857142857, 'Test set score': 0.9629285714285715, 'Time spent': 258.2112311}, {'Solver': 'lbfgs', 'Hidden Layers': [128, 128, 128, 128], 'Training set score': 1.0, 'Test set score': 0.9696428571428571, 'Time spent': 397.34849610000003}, {'Solver': 'lbfgs', 'Hidden Layers': [64, 128, 64, 10], 'Training set score': 0.5924821428571428, 'Test set score': 0.5916428571428571, 'Time spent': 272.08793319999995}, {'Solver': 'lbfgs', 'Hidden Layers': [128, 128], 'Training set score': 1.0, 'Test set score': 0.9668571428571429, 'Time spent': 280.197361}, {'Solver': 'lbfgs', 'Hidden Layers': [64, 64], 'Training set score': 0.9538928571428571, 'Test set score': 0.9405714285714286, 'Time spent': 165.88562980000006}, {'Solver': 'sgd', 'Hidden Layers': [10, 10, 10, 10], 'Training set score': 0.11242857142857143, 'Test set score': 0.11292857142857143, 'Time spent': 13.621243899999854}, {'Solver': 'sgd', 'Hidden Layers': [64, 64, 64, 64], 'Training set score': 0.9927142857142857, 'Test set score': 0.9555, 'Time spent': 178.7120910000001}, {'Solver': 'sgd', 'Hidden Layers': [128, 128, 128, 128], 'Training set score': 1.0, 'Test set score': 0.9622142857142857, 'Time spent': 117.01284220000002}, {'Solver': 'sgd', 'Hidden Layers': [64, 128, 64, 10], 'Training set score': 0.11242857142857143, 'Test set score': 0.11292857142857143, 'Time spent': 26.1559471999999}, {'Solver': 'sgd', 'Hidden Layers': [128, 128], 'Training set score': 0.9827142857142858, 'Test set score': 0.9392857142857143, 'Time spent': 286.28490669999996}, {'Solver': 'sgd', 'Hidden Layers': [64, 64], 'Training set score': 0.9594107142857143, 'Test set score': 0.9321428571428572, 'Time spent': 192.36241109999992}, {'Solver': 'adam', 'Hidden Layers': [10, 10, 10, 10], 'Training set score': 0.9526071428571429, 'Test set score': 0.9207142857142857, 'Time spent': 160.47008790000018}, {'Solver': 'adam', 'Hidden Layers': [64, 64, 64, 64], 'Training set score': 0.9938035714285715, 'Test set score': 0.9675, 'Time spent': 98.64507570000023}, {'Solver': 'adam', 'Hidden Layers': [128, 128, 128, 128], 'Training set score': 0.9993571428571428, 'Test set score': 0.9767142857142858, 'Time spent': 209.16021349999983}, {'Solver': 'adam', 'Hidden Layers': [64, 128, 64, 10], 'Training set score': 0.9971428571428571, 'Test set score': 0.9724285714285714, 'Time spent': 132.0388383999998}, {'Solver': 'adam', 'Hidden Layers': [128, 128], 'Training set score': 0.996625, 'Test set score': 0.9728571428571429, 'Time spent': 145.53849629999968}, {'Solver': 'adam', 'Hidden Layers': [64, 64], 'Training set score': 0.9963928571428572, 'Test set score': 0.9677857142857142, 'Time spent': 107.51821449999989}]\n"
     ]
    }
   ],
   "source": [
    "\n",
    "json_data = \"\"\n",
    "\n",
    "with open(\"./results.json\", encoding='utf-8-sig') as json_file:\n",
    "    text = json_file.read()\n",
    "    json_data = json.loads(text)\n",
    "    \n",
    "print(json_data)"
   ]
  },
  {
   "cell_type": "markdown",
   "metadata": {},
   "source": [
    "Faz um gráfico para visualizar o score em cada solver e em cada quantidade de hidden layers. \n",
    "\n",
    "Também é plotado um gráfico da razão tempo/solver para cada tipo de hidden layer "
   ]
  },
  {
   "cell_type": "code",
   "execution_count": 29,
   "metadata": {},
   "outputs": [],
   "source": [
    "import matplotlib.pyplot as plt\n",
    "\n",
    "hidden_layers = [(10,10,10,10), (64,64,64,64), (128,128,128,128), (64, 128, 64, 10), (128,128), (64,64)]\n",
    "\n",
    "lbfgs_test_scores = []\n",
    "lbfgs_training_scores = []\n",
    "lbfgs_time = 0\n",
    "\n",
    "sgd_test_scores = []\n",
    "sgd_training_scores = []\n",
    "sgd_time = 0\n",
    "\n",
    "adam_test_scores = []\n",
    "adam_training_scores = []\n",
    "adam_time = 0\n",
    "\n",
    "for data in json_data:\n",
    "    if data[\"Solver\"] == \"lbfgs\":\n",
    "        lbfgs_test_scores.append(data[\"Test set score\"] * 100)\n",
    "        lbfgs_training_scores.append(data[\"Training set score\"] * 100)\n",
    "        lbfgs_time += data[\"Time spent\"]\n",
    "    elif data[\"Solver\"] == \"sgd\":\n",
    "        sgd_test_scores.append(data[\"Test set score\"] * 100)\n",
    "        sgd_training_scores.append(data[\"Training set score\"] * 100)\n",
    "        sgd_time += data[\"Time spent\"]\n",
    "    elif data[\"Solver\"] == \"adam\":\n",
    "        adam_test_scores.append(data[\"Test set score\"] * 100)\n",
    "        adam_training_scores.append(data[\"Training set score\"] * 100)\n",
    "        adam_time += data[\"Time spent\"]\n",
    "        \n",
    "lbfgs_test_scores = tuple(lbfgs_test_scores)\n",
    "lbfgs_training_scores = tuple(lbfgs_training_scores)\n",
    "\n",
    "sgd_test_scores = tuple(sgd_test_scores)\n",
    "sgd_training_scores = tuple(sgd_training_scores)\n",
    "\n",
    "adam_test_scores = tuple(adam_test_scores)\n",
    "adam_training_scores = tuple(adam_training_scores)\n",
    "        \n"
   ]
  },
  {
   "cell_type": "code",
   "execution_count": 30,
   "metadata": {},
   "outputs": [
    {
     "data": {
      "image/png": "[encoded data removed]",
      "text/plain": [
       "<Figure size 720x720 with 1 Axes>"
      ]
     },
     "metadata": {
      "needs_background": "light"
     },
     "output_type": "display_data"
    },
    {
     "name": "stdout",
     "output_type": "stream",
     "text": [
      "LBFGS Training: 37.371 %\n",
      "LBFGS Test: 37.105 %\n",
      "SGD Training: 11.293 %\n",
      "SGD Test: 11.243 %\n",
      "ADAM Training: 92.071 %\n",
      "ADAM Test: 95.261 %\n"
     ]
    }
   ],
   "source": [
    "objects = (\"LBFGS Training\", \"LBFGS Test\" , \"SGD Training\", \"SGD Test\", \"ADAM Training\", \"ADAM Test\")\n",
    "\n",
    "scores = []\n",
    "\n",
    "scores.append(lbfgs_test_scores[0])\n",
    "scores.append(lbfgs_training_scores[0])\n",
    "scores.append(sgd_test_scores[0])\n",
    "scores.append(sgd_training_scores[0])\n",
    "scores.append(adam_test_scores[0])\n",
    "scores.append(adam_training_scores[0])\n",
    "\n",
    "y_pos = np.arange(len(objects))\n",
    "\n",
    "plt.bar(y_pos, scores, align='center', alpha=0.5)\n",
    "plt.xticks(y_pos, objects)\n",
    "plt.ylabel('Scores')\n",
    "plt.title(f\"Solvers performances using hidden layers on format {hidden_layers[0]}\")\n",
    "\n",
    "plt.show()\n",
    "\n",
    "for pos, obj in enumerate(objects):\n",
    "    print(obj + \": \" + str(\"{0:.3f}\".format(scores[pos])) + \" %\")"
   ]
  },
  {
   "cell_type": "code",
   "execution_count": 31,
   "metadata": {},
   "outputs": [
    {
     "data": {
      "image/png": "[encoded data removed]",
      "text/plain": [
       "<Figure size 720x720 with 1 Axes>"
      ]
     },
     "metadata": {
      "needs_background": "light"
     },
     "output_type": "display_data"
    },
    {
     "name": "stdout",
     "output_type": "stream",
     "text": [
      "LBFGS Training: 96.293 %\n",
      "LBFGS Test: 99.759 %\n",
      "SGD Training: 95.550 %\n",
      "SGD Test: 99.271 %\n",
      "ADAM Training: 96.750 %\n",
      "ADAM Test: 99.380 %\n"
     ]
    }
   ],
   "source": [
    "objects = (\"LBFGS Training\", \"LBFGS Test\" , \"SGD Training\", \"SGD Test\", \"ADAM Training\", \"ADAM Test\")\n",
    "\n",
    "scores = []\n",
    "\n",
    "scores.append(lbfgs_test_scores[1])\n",
    "scores.append(lbfgs_training_scores[1])\n",
    "scores.append(sgd_test_scores[1])\n",
    "scores.append(sgd_training_scores[1])\n",
    "scores.append(adam_test_scores[1])\n",
    "scores.append(adam_training_scores[1])\n",
    "\n",
    "y_pos = np.arange(len(objects))\n",
    "\n",
    "plt.bar(y_pos, scores, align='center', alpha=0.5)\n",
    "plt.xticks(y_pos, objects)\n",
    "plt.ylabel('Scores')\n",
    "plt.title(f\"Solvers performances using hidden layers on format {hidden_layers[1]}\")\n",
    "\n",
    "plt.show()\n",
    "\n",
    "for pos, obj in enumerate(objects):\n",
    "    print(obj + \": \" + str(\"{0:.3f}\".format(scores[pos])) + \" %\")"
   ]
  },
  {
   "cell_type": "code",
   "execution_count": 32,
   "metadata": {},
   "outputs": [
    {
     "data": {
      "image/png": "[encoded data removed]",
      "text/plain": [
       "<Figure size 720x720 with 1 Axes>"
      ]
     },
     "metadata": {
      "needs_background": "light"
     },
     "output_type": "display_data"
    },
    {
     "name": "stdout",
     "output_type": "stream",
     "text": [
      "LBFGS Training: 96.964 %\n",
      "LBFGS Test: 100.000 %\n",
      "SGD Training: 96.221 %\n",
      "SGD Test: 100.000 %\n",
      "ADAM Training: 97.671 %\n",
      "ADAM Test: 99.936 %\n"
     ]
    }
   ],
   "source": [
    "objects = (\"LBFGS Training\", \"LBFGS Test\" , \"SGD Training\", \"SGD Test\", \"ADAM Training\", \"ADAM Test\")\n",
    "\n",
    "scores = []\n",
    "\n",
    "scores.append(lbfgs_test_scores[2])\n",
    "scores.append(lbfgs_training_scores[2])\n",
    "scores.append(sgd_test_scores[2])\n",
    "scores.append(sgd_training_scores[2])\n",
    "scores.append(adam_test_scores[2])\n",
    "scores.append(adam_training_scores[2])\n",
    "\n",
    "y_pos = np.arange(len(objects))\n",
    "\n",
    "plt.bar(y_pos, scores, align='center', alpha=0.5)\n",
    "plt.xticks(y_pos, objects)\n",
    "plt.ylabel('Scores')\n",
    "plt.title(f\"Solvers performances using hidden layers on format {hidden_layers[2]}\")\n",
    "\n",
    "plt.show()\n",
    "\n",
    "for pos, obj in enumerate(objects):\n",
    "    print(obj + \": \" + str(\"{0:.3f}\".format(scores[pos])) + \" %\")"
   ]
  },
  {
   "cell_type": "code",
   "execution_count": 33,
   "metadata": {},
   "outputs": [
    {
     "data": {
      "image/png": "[encoded data removed]",
      "text/plain": [
       "<Figure size 720x720 with 1 Axes>"
      ]
     },
     "metadata": {
      "needs_background": "light"
     },
     "output_type": "display_data"
    },
    {
     "name": "stdout",
     "output_type": "stream",
     "text": [
      "LBFGS Training: 59.164 %\n",
      "LBFGS Test: 59.248 %\n",
      "SGD Training: 11.293 %\n",
      "SGD Test: 11.243 %\n",
      "ADAM Training: 97.243 %\n",
      "ADAM Test: 99.714 %\n"
     ]
    }
   ],
   "source": [
    "objects = (\"LBFGS Training\", \"LBFGS Test\" , \"SGD Training\", \"SGD Test\", \"ADAM Training\", \"ADAM Test\")\n",
    "\n",
    "scores = []\n",
    "\n",
    "scores.append(lbfgs_test_scores[3])\n",
    "scores.append(lbfgs_training_scores[3])\n",
    "scores.append(sgd_test_scores[3])\n",
    "scores.append(sgd_training_scores[3])\n",
    "scores.append(adam_test_scores[3])\n",
    "scores.append(adam_training_scores[3])\n",
    "\n",
    "y_pos = np.arange(len(objects))\n",
    "\n",
    "plt.bar(y_pos, scores, align='center', alpha=0.5)\n",
    "plt.xticks(y_pos, objects)\n",
    "plt.ylabel('Scores')\n",
    "plt.title(f\"Solvers performances using hidden layers on format {hidden_layers[3]}\")\n",
    "\n",
    "plt.show()\n",
    "\n",
    "for pos, obj in enumerate(objects):\n",
    "    print(obj + \": \" + str(\"{0:.3f}\".format(scores[pos])) + \" %\")"
   ]
  },
  {
   "cell_type": "code",
   "execution_count": 34,
   "metadata": {},
   "outputs": [
    {
     "data": {
      "image/png": "[encoded data removed]",
      "text/plain": [
       "<Figure size 720x720 with 1 Axes>"
      ]
     },
     "metadata": {
      "needs_background": "light"
     },
     "output_type": "display_data"
    },
    {
     "name": "stdout",
     "output_type": "stream",
     "text": [
      "LBFGS Training: 96.686 %\n",
      "LBFGS Test: 100.000 %\n",
      "SGD Training: 93.929 %\n",
      "SGD Test: 98.271 %\n",
      "ADAM Training: 97.286 %\n",
      "ADAM Test: 99.662 %\n"
     ]
    }
   ],
   "source": [
    "objects = (\"LBFGS Training\", \"LBFGS Test\" , \"SGD Training\", \"SGD Test\", \"ADAM Training\", \"ADAM Test\")\n",
    "\n",
    "scores = []\n",
    "\n",
    "scores.append(lbfgs_test_scores[4])\n",
    "scores.append(lbfgs_training_scores[4])\n",
    "scores.append(sgd_test_scores[4])\n",
    "scores.append(sgd_training_scores[4])\n",
    "scores.append(adam_test_scores[4])\n",
    "scores.append(adam_training_scores[4])\n",
    "\n",
    "y_pos = np.arange(len(objects))\n",
    "\n",
    "plt.bar(y_pos, scores, align='center', alpha=0.5)\n",
    "plt.xticks(y_pos, objects)\n",
    "plt.ylabel('Scores')\n",
    "plt.title(f\"Solvers performances using hidden layers on format {hidden_layers[4]}\")\n",
    "\n",
    "plt.show()\n",
    "\n",
    "\n",
    "for pos, obj in enumerate(objects):\n",
    "    print(obj + \": \" + str(\"{0:.3f}\".format(scores[pos])) + \" %\")"
   ]
  },
  {
   "cell_type": "code",
   "execution_count": 35,
   "metadata": {},
   "outputs": [
    {
     "data": {
      "image/png": "[encoded data removed]",
      "text/plain": [
       "<Figure size 720x720 with 1 Axes>"
      ]
     },
     "metadata": {
      "needs_background": "light"
     },
     "output_type": "display_data"
    },
    {
     "name": "stdout",
     "output_type": "stream",
     "text": [
      "LBFGS Training: 94.057 %\n",
      "LBFGS Test: 95.389 %\n",
      "SGD Training: 93.214 %\n",
      "SGD Test: 95.941 %\n",
      "ADAM Training: 96.779 %\n",
      "ADAM Test: 99.639 %\n"
     ]
    }
   ],
   "source": [
    "objects = (\"LBFGS Training\", \"LBFGS Test\" , \"SGD Training\", \"SGD Test\", \"ADAM Training\", \"ADAM Test\")\n",
    "\n",
    "scores = []\n",
    "\n",
    "scores.append(lbfgs_test_scores[5])\n",
    "scores.append(lbfgs_training_scores[5])\n",
    "scores.append(sgd_test_scores[5])\n",
    "scores.append(sgd_training_scores[5])\n",
    "scores.append(adam_test_scores[5])\n",
    "scores.append(adam_training_scores[5])\n",
    "\n",
    "y_pos = np.arange(len(objects))\n",
    "\n",
    "plt.bar(y_pos, scores, align='center', alpha=0.5)\n",
    "plt.xticks(y_pos, objects)\n",
    "plt.ylabel('Scores')\n",
    "plt.title(f\"Solvers performances using hidden layers on format {hidden_layers[5]}\")\n",
    "\n",
    "plt.show()\n",
    "\n",
    "for pos, obj in enumerate(objects):\n",
    "    print(obj + \": \" + str(\"{0:.3f}\".format(scores[pos])) + \" %\")"
   ]
  },
  {
   "cell_type": "code",
   "execution_count": 36,
   "metadata": {
    "scrolled": true
   },
   "outputs": [
    {
     "data": {
      "image/png": "[encoded data removed]",
      "text/plain": [
       "<Figure size 720x720 with 1 Axes>"
      ]
     },
     "metadata": {
      "needs_background": "light"
     },
     "output_type": "display_data"
    }
   ],
   "source": [
    "objects = (\"LBFGS mean time\", \"SGD mean time\", \"ADAM mean time\")\n",
    "\n",
    "scores = []\n",
    "\n",
    "mean_lbfgs_time = lbfgs_time/6\n",
    "mean_sgd_time = sgd_time/6\n",
    "mean_adam_time = adam_time/6\n",
    "\n",
    "scores.append(mean_lbfgs_time)\n",
    "scores.append(mean_sgd_time)\n",
    "scores.append(mean_adam_time)\n",
    "\n",
    "y_pos = np.arange(len(objects))\n",
    "\n",
    "plt.bar(y_pos, scores, align='center', alpha=0.5)\n",
    "plt.xticks(y_pos, objects)\n",
    "plt.ylabel('Usage')\n",
    "plt.title(f\"Mean time between solvers (in seconds)\")\n",
    "\n",
    "plt.show()"
   ]
  },
  {
   "cell_type": "markdown",
   "metadata": {},
   "source": [
    "# Resolvendo com solver próprio"
   ]
  },
  {
   "cell_type": "markdown",
   "metadata": {},
   "source": [
    "# Importaões"
   ]
  },
  {
   "cell_type": "markdown",
   "metadata": {},
   "source": [
    "Abaixo estão as importações necessárias para a execução do programa."
   ]
  },
  {
   "cell_type": "code",
   "execution_count": 37,
   "metadata": {},
   "outputs": [],
   "source": [
    "from __future__ import print_function\n",
    "from tqdm import trange\n",
    "from IPython.display import clear_output\n",
    "\n",
    "import numpy as np ## For numerical python\n",
    "import matplotlib.pyplot as plt\n",
    "from keras import datasets\n",
    "\n",
    "%matplotlib inline"
   ]
  },
  {
   "cell_type": "markdown",
   "metadata": {
    "colab_type": "text",
    "id": "RrqQOMeNHoCq"
   },
   "source": [
    "## Random seed"
   ]
  },
  {
   "cell_type": "markdown",
   "metadata": {
    "colab_type": "text",
    "id": "HdpR83oESJvw"
   },
   "source": [
    "Abaixo é fixado a semente da função random para que os resutados desta função não varie em todas as execuções."
   ]
  },
  {
   "cell_type": "code",
   "execution_count": 38,
   "metadata": {
    "colab": {},
    "colab_type": "code",
    "id": "RPGTPiIpHrrF"
   },
   "outputs": [],
   "source": [
    "np.random.seed(42)"
   ]
  },
  {
   "cell_type": "markdown",
   "metadata": {
    "colab_type": "text",
    "id": "S0t517xiKAKm"
   },
   "source": [
    "## Parametros"
   ]
  },
  {
   "cell_type": "markdown",
   "metadata": {
    "colab_type": "text",
    "id": "cNHc0CdTSXMO"
   },
   "source": [
    "Abaixo estão fixados os parâmetros da rede. Nota-se que a rede tem apenas uma camada escondida"
   ]
  },
  {
   "cell_type": "code",
   "execution_count": 39,
   "metadata": {
    "colab": {},
    "colab_type": "code",
    "id": "9eKkiUChKE4C"
   },
   "outputs": [],
   "source": [
    "# Número de perceptrons na entrada\n",
    "input_layer_sizes = [128] # FIXO\n",
    "# Número de perceptrons na primeira camada escondida\n",
    "hidden_layer_1_sizes = [128]\n",
    "# Número de perceptrons na primeira camada escondida\n",
    "hidden_layer_2_sizes = [128]\n",
    "# Número de perceptrons na camada de saída\n",
    "output_layer_sizes = [10] # FIXO\n",
    "\n",
    "# Taxa de aprendizado\n",
    "alpha = 0.1\n",
    "# Número de épocas\n",
    "epochs = 25"
   ]
  },
  {
   "cell_type": "markdown",
   "metadata": {
    "colab_type": "text",
    "id": "-M8kc458S6PU"
   },
   "source": [
    "## Classes"
   ]
  },
  {
   "cell_type": "markdown",
   "metadata": {
    "colab_type": "text",
    "id": "DLShQYUDTBBp"
   },
   "source": [
    "Abaixo estão as classes utilizadas pelo programa."
   ]
  },
  {
   "cell_type": "markdown",
   "metadata": {
    "colab_type": "text",
    "id": "n34L9vFCHsvL"
   },
   "source": [
    "### Layer"
   ]
  },
  {
   "cell_type": "markdown",
   "metadata": {
    "colab_type": "text",
    "id": "aJFYT5sETHJw"
   },
   "source": [
    "Classe que representa uma camada genérica e \"burra\", ou seja , que apenas propaga o que recebe."
   ]
  },
  {
   "cell_type": "code",
   "execution_count": 40,
   "metadata": {
    "colab": {},
    "colab_type": "code",
    "id": "Tp-CLuyQHwqM"
   },
   "outputs": [],
   "source": [
    "class Layer:\n",
    "    \n",
    "    def __init__(self):\n",
    "        # Here we can initialize layer parameters (if any) and auxiliary stuff.\n",
    "        # A dummy layer does nothing\n",
    "        pass\n",
    "\n",
    "\n",
    "    def forward(self, input):\n",
    "        # Takes input data of shape [batch, input_units], returns output data [batch, output_units]\n",
    "        # A dummy layer just returns whatever it gets as input.\n",
    "        return input\n",
    "\n",
    "      \n",
    "    def backward(self, input, grad_output):\n",
    "        # Performs a backpropagation step through the layer, with respect to the given input.\n",
    "        # To compute loss gradients w.r.t input, we need to apply chain rule (backprop):\n",
    "        # d loss / d x  = (d loss / d layer) * (d layer / d x)\n",
    "        # Luckily, we already receive d loss / d layer as input, so you only need to multiply it by d layer / d x.\n",
    "        # If our layer has parameters (e.g. dense layer), we also need to update them here using d loss / d layer\n",
    "        # The gradient of a dummy layer is precisely grad_output, but we'll write it more explicitly\n",
    "        \n",
    "        num_units = input.shape[1]\n",
    "        d_layer_d_input = np.eye(num_units)\n",
    "        return np.dot(grad_output, d_layer_d_input) # chain rule"
   ]
  },
  {
   "cell_type": "markdown",
   "metadata": {
    "colab_type": "text",
    "id": "PUvu4RwMH59N"
   },
   "source": [
    "### ReLU"
   ]
  },
  {
   "cell_type": "markdown",
   "metadata": {
    "colab_type": "text",
    "id": "DUXZ9OuoTjpr"
   },
   "source": [
    "Classe que representa a função de ativação ReLU como uma camada e é utilizada como um \"aresta\" entre duas outras camadas."
   ]
  },
  {
   "cell_type": "code",
   "execution_count": 41,
   "metadata": {
    "colab": {},
    "colab_type": "code",
    "id": "vRBrnB8wH_gc"
   },
   "outputs": [],
   "source": [
    "class ReLU(Layer):\n",
    "  \n",
    "  \n",
    "    def __init__(self):\n",
    "        # ReLU layer simply applies elementwise rectified linear unit to all inputs\n",
    "        pass\n",
    "    \n",
    "    \n",
    "    def forward(self, input):\n",
    "        # Apply elementwise ReLU to [batch, input_units] matrix\n",
    "        relu_forward = np.maximum(0, input)\n",
    "        return relu_forward\n",
    "    \n",
    "    \n",
    "    def backward(self, input, grad_output):\n",
    "        # Compute gradient of loss w.r.t. ReLU input\n",
    "        relu_grad = input > 0\n",
    "        return grad_output*relu_grad"
   ]
  },
  {
   "cell_type": "markdown",
   "metadata": {
    "colab_type": "text",
    "id": "9Hj427yWIB81"
   },
   "source": [
    "### Dense"
   ]
  },
  {
   "cell_type": "markdown",
   "metadata": {
    "colab_type": "text",
    "id": "0lcduOr8VJiU"
   },
   "source": [
    "Classe que representa uma camada mais complexa com funções de aprendizado."
   ]
  },
  {
   "cell_type": "code",
   "execution_count": 42,
   "metadata": {
    "colab": {},
    "colab_type": "code",
    "id": "-v6lbFnzIFNU"
   },
   "outputs": [],
   "source": [
    "class Dense(Layer):\n",
    "    def __init__(self, input_units, output_units, learning_rate):\n",
    "        # A dense layer is a layer which performs a learned affine transformation:\n",
    "        # f(x) = <W*x> + b\n",
    "        \n",
    "        self.learning_rate = learning_rate\n",
    "        self.weights = np.random.normal(loc=0.0, \n",
    "                                        scale = np.sqrt(2/(input_units+output_units)), \n",
    "                                        size = (input_units,output_units)\n",
    "                                       )\n",
    "        \n",
    "        self.biases = np.zeros(output_units)\n",
    "    \n",
    "    \n",
    "    def forward(self, input):\n",
    "        # Perform an affine transformation:\n",
    "        # f(x) = <W*x> + b\n",
    "        \n",
    "        # input shape: [batch, input_units]\n",
    "        # output shape: [batch, output units]\n",
    "        \n",
    "        return np.dot(input, self.weights) + self.biases\n",
    "    \n",
    "    \n",
    "    def backward(self, input, grad_output):\n",
    "        # compute d f / d x = d f / d dense * d dense / d x\n",
    "        # where d dense/ d x = weights transposed\n",
    "        grad_input = np.dot(grad_output, self.weights.T)\n",
    "        \n",
    "        # compute gradient w.r.t. weights and biases\n",
    "        grad_weights = np.dot(input.T, grad_output)\n",
    "        grad_biases = grad_output.mean(axis=0) * input.shape[0]\n",
    "        \n",
    "        assert grad_weights.shape == self.weights.shape and grad_biases.shape == self.biases.shape\n",
    "        \n",
    "        # Here we perform a stochastic gradient descent step. \n",
    "        self.weights = self.weights - self.learning_rate * grad_weights\n",
    "        self.biases = self.biases - self.learning_rate * grad_biases\n",
    "        \n",
    "        return grad_input"
   ]
  },
  {
   "cell_type": "markdown",
   "metadata": {
    "colab_type": "text",
    "id": "3sX4F5jHIPwQ"
   },
   "source": [
    "## Leitura do Dataset"
   ]
  },
  {
   "cell_type": "markdown",
   "metadata": {
    "colab_type": "text",
    "id": "pB3jdh4-VU-W"
   },
   "source": [
    "Abaixo está a função que lê o dataset e o divide em 3 categorias: treino, validação e teste."
   ]
  },
  {
   "cell_type": "code",
   "execution_count": 43,
   "metadata": {
    "colab": {},
    "colab_type": "code",
    "id": "HG_Chxx9IaaO"
   },
   "outputs": [],
   "source": [
    "def load_dataset(flatten=False):\n",
    "    (X_train, y_train), (X_test, y_test) = datasets.mnist.load_data()\n",
    "\n",
    "    # normalize x\n",
    "    X_train = X_train.astype(float) / 255.\n",
    "    X_test = X_test.astype(float) / 255.\n",
    "\n",
    "    # we reserve the last 10000 training examples for validation\n",
    "    X_train, X_val = X_train[:-10000], X_train[-10000:]\n",
    "    y_train, y_val = y_train[:-10000], y_train[-10000:]\n",
    "\n",
    "    if flatten:\n",
    "        X_train = X_train.reshape([X_train.shape[0], -1])\n",
    "        X_val = X_val.reshape([X_val.shape[0], -1])\n",
    "        X_test = X_test.reshape([X_test.shape[0], -1])\n",
    "\n",
    "    return X_train, y_train, X_val, y_val, X_test, y_test"
   ]
  },
  {
   "cell_type": "markdown",
   "metadata": {
    "colab_type": "text",
    "id": "ayDgupjkMa8s"
   },
   "source": [
    "## Exemplo"
   ]
  },
  {
   "cell_type": "markdown",
   "metadata": {
    "colab_type": "text",
    "id": "wafl77kYa-f3"
   },
   "source": [
    "Exemplo de entrada vindo do Dataset MNIST (em formato de imagem)."
   ]
  },
  {
   "cell_type": "code",
   "execution_count": 44,
   "metadata": {
    "colab": {
     "base_uri": "https://localhost:8080/",
     "height": 486
    },
    "colab_type": "code",
    "id": "aHQMYbVnGhQI",
    "outputId": "13bd3d7f-9e94-4546-ce2b-3177ec4eeec3"
   },
   "outputs": [
    {
     "data": {
      "image/png": "[encoded data removed]",
      "text/plain": [
       "<Figure size 504x576 with 9 Axes>"
      ]
     },
     "metadata": {
      "needs_background": "light"
     },
     "output_type": "display_data"
    }
   ],
   "source": [
    "\n",
    "X_train, y_train, X_val, y_val, X_test, y_test = load_dataset(flatten=True)\n",
    "\n",
    "## Let's look at some example\n",
    "plt.figure(figsize = [7, 8])\n",
    "for i in range(9):\n",
    "    plt.subplot(3, 3,i + 1)\n",
    "    plt.title(\"Label: %i\" % y_train[i])\n",
    "    plt.imshow(X_train[i].reshape([28, 28]), cmap = 'gray');\n",
    "    \n",
    "   \n"
   ]
  },
  {
   "cell_type": "markdown",
   "metadata": {
    "colab_type": "text",
    "id": "qeNfAByNIfzz"
   },
   "source": [
    "## Funções Auxiliares"
   ]
  },
  {
   "cell_type": "markdown",
   "metadata": {
    "colab_type": "text",
    "id": "UWjc--yHVm--"
   },
   "source": [
    "Abaixo estão funçoes que auxiliam o programa em sua execução, sendo as duas loss functions e a terceira para a execução do mini-batch stochastic gradient descent."
   ]
  },
  {
   "cell_type": "code",
   "execution_count": 45,
   "metadata": {
    "colab": {},
    "colab_type": "code",
    "id": "3Ca9EFL0Ilvw"
   },
   "outputs": [],
   "source": [
    "def softmax_crossentropy_with_logits(logits, reference_answers):\n",
    "    # Compute crossentropy from logits[batch,n_classes] and ids of correct answers\n",
    "    logits_for_answers = logits[np.arange(len(logits)), reference_answers]\n",
    "    \n",
    "    xentropy = - logits_for_answers + np.log(np.sum(np.exp(logits), axis = -1))\n",
    "    \n",
    "    return xentropy\n",
    "\n",
    "def grad_softmax_crossentropy_with_logits(logits,reference_answers):\n",
    "    # Compute crossentropy gradient from logits[batch,n_classes] and ids of correct answers\n",
    "    ones_for_answers = np.zeros_like(logits)\n",
    "    ones_for_answers[np.arange(len(logits)),reference_answers] = 1\n",
    "    \n",
    "    softmax = np.exp(logits) / np.exp(logits).sum(axis=-1,keepdims=True)\n",
    "    \n",
    "    return (- ones_for_answers + softmax) / logits.shape[0]\n",
    "\n",
    "def iterate_minibatches(inputs, targets, batchsize, shuffle=False):\n",
    "    assert len(inputs) == len(targets)\n",
    "    if shuffle:\n",
    "        indices = np.random.permutation(len(inputs))\n",
    "    for start_idx in trange(0, len(inputs) - batchsize + 1, batchsize):\n",
    "        if shuffle:\n",
    "            excerpt = indices[start_idx:start_idx + batchsize]\n",
    "        else:\n",
    "            excerpt = slice(start_idx, start_idx + batchsize)\n",
    "        yield inputs[excerpt], targets[excerpt]"
   ]
  },
  {
   "cell_type": "markdown",
   "metadata": {
    "colab_type": "text",
    "id": "pS78K5DIIrhl"
   },
   "source": [
    "## Funções para execução"
   ]
  },
  {
   "cell_type": "markdown",
   "metadata": {
    "colab_type": "text",
    "id": "NJCm_5ZcYRYq"
   },
   "source": [
    "Funções utilizadas para o treino da Rede Neural. A função forward calcula as ativações de toda a rede executando as camadas sequencialmente. A função predict prediz o resuldo"
   ]
  },
  {
   "cell_type": "code",
   "execution_count": 46,
   "metadata": {
    "colab": {},
    "colab_type": "code",
    "id": "CnzFNRKMIuap"
   },
   "outputs": [],
   "source": [
    "def forward(network, X):\n",
    "    # Compute activations of all network layers by applying them sequentially.\n",
    "    # Return a list of activations for each layer. \n",
    "    \n",
    "    activations = []\n",
    "    input = X\n",
    "\n",
    "    # Looping through each layer\n",
    "    for l in network:\n",
    "        activations.append(l.forward(input))\n",
    "        # Updating input to last layer output\n",
    "        input = activations[-1]\n",
    "    \n",
    "    assert len(activations) == len(network)\n",
    "    return activations\n",
    "\n",
    "def predict(network, X):\n",
    "    # Compute network predictions. Returning indices of largest Logit probability\n",
    "\n",
    "    logits = forward(network, X)[-1]\n",
    "    return logits.argmax(axis = -1)\n",
    "\n",
    "def train(network, X, y):\n",
    "    # Train our network on a given batch of X and y.\n",
    "    # We first need to run forward to get all layer activations.\n",
    "    # Then we can run layer.backward going from last to first layer.\n",
    "    # After we have called backward for all layers, all Dense layers have already made one gradient step.\n",
    "    \n",
    "    \n",
    "    # Get the layer activations\n",
    "    layer_activations = forward(network, X)\n",
    "    layer_inputs = [X] + layer_activations  #layer_input[i] is an input for network[i]\n",
    "    logits = layer_activations[-1]\n",
    "    \n",
    "    # Compute the loss and the initial gradient\n",
    "    loss = softmax_crossentropy_with_logits(logits, y)\n",
    "    loss_grad = grad_softmax_crossentropy_with_logits(logits, y)\n",
    "    \n",
    "    # Propagate gradients through the network\n",
    "    # Reverse propogation as this is backprop\n",
    "    for layer_index in range(len(network))[::-1]:\n",
    "        layer = network[layer_index]\n",
    "        \n",
    "        loss_grad = layer.backward(layer_inputs[layer_index], loss_grad) #grad w.r.t. input, also weight updates\n",
    "        \n",
    "    return np.mean(loss)"
   ]
  },
  {
   "cell_type": "markdown",
   "metadata": {
    "colab_type": "text",
    "id": "koytOgKQMf1I"
   },
   "source": [
    "## Execução"
   ]
  },
  {
   "cell_type": "markdown",
   "metadata": {
    "colab_type": "text",
    "id": "MKpGGyMjbyqg"
   },
   "source": [
    "### Criação da rede"
   ]
  },
  {
   "cell_type": "markdown",
   "metadata": {
    "colab_type": "text",
    "id": "Dq-3ZHNle72K"
   },
   "source": [
    "O código abaixo instancia a rede adicionando suas camadas em um vetor."
   ]
  },
  {
   "cell_type": "code",
   "execution_count": 47,
   "metadata": {
    "colab": {},
    "colab_type": "code",
    "id": "ueiuw0oHMd3R"
   },
   "outputs": [],
   "source": [
    "network = []\n",
    "network.append(Dense(X_train.shape[1], input_layer_sizes[0], alpha))\n",
    "network.append(ReLU())\n",
    "network.append(Dense(input_layer_sizes[0], hidden_layer_1_sizes[0], alpha))\n",
    "network.append(ReLU())\n",
    "network.append(Dense(hidden_layer_1_sizes[0], hidden_layer_2_sizes[0], alpha))\n",
    "network.append(ReLU())\n",
    "network.append(Dense(hidden_layer_2_sizes[0], output_layer_sizes[0], alpha))\n"
   ]
  },
  {
   "cell_type": "markdown",
   "metadata": {
    "colab_type": "text",
    "id": "rAa2vta_b6B1"
   },
   "source": [
    "### Treino"
   ]
  },
  {
   "cell_type": "markdown",
   "metadata": {
    "colab_type": "text",
    "id": "XNpTtXcccGgq"
   },
   "source": [
    "O código abaixo executa o treino sobre o Dataset. A cada época ele também valida os resultados, utilizando o conjunto de validação, permitindo assim que seja possível observar o comportamento em relação a instâncias que não estão presentes no conjunto de treino e compará-los."
   ]
  },
  {
   "cell_type": "code",
   "execution_count": 48,
   "metadata": {
    "colab": {
     "base_uri": "https://localhost:8080/",
     "height": 34
    },
    "colab_type": "code",
    "id": "anjDl_TdcBrX",
    "outputId": "0abf9de8-7b34-4e9c-dd2b-8c382edf383e"
   },
   "outputs": [
    {
     "name": "stdout",
     "output_type": "stream",
     "text": [
      "Epoch 24\n",
      "Train accuracy: 0.99912\n",
      "Val accuracy: 0.9787\n"
     ]
    },
    {
     "data": {
      "image/png": "[encoded data removed]",
      "text/plain": [
       "<Figure size 432x288 with 1 Axes>"
      ]
     },
     "metadata": {
      "needs_background": "light"
     },
     "output_type": "display_data"
    },
    {
     "name": "stdout",
     "output_type": "stream",
     "text": [
      "199.18925008199994\n"
     ]
    }
   ],
   "source": [
    "train_log = []\n",
    "val_log = []\n",
    "\n",
    "start = timer()\n",
    "for epoch in range(epochs):\n",
    "\n",
    "    for x_batch,y_batch in iterate_minibatches(X_train, y_train,batchsize = 32, shuffle = True):\n",
    "        train(network, x_batch, y_batch)\n",
    "    \n",
    "    train_log.append(np.mean(predict(network, X_train) == y_train))\n",
    "    val_log.append(np.mean(predict(network, X_val) == y_val))\n",
    "    \n",
    "    clear_output()\n",
    "    print(\"Epoch\", epoch)\n",
    "    print(\"Train accuracy:\", train_log[-1])\n",
    "    print(\"Val accuracy:\", val_log[-1])\n",
    "    plt.plot(train_log, label = 'train accuracy')\n",
    "    plt.plot(val_log, label = 'val accuracy')\n",
    "    plt.legend(loc = 'best')\n",
    "    plt.grid()\n",
    "    plt.show()\n",
    "end = timer()\n",
    "our_total_time = end - start\n",
    "print(our_total_time)"
   ]
  },
  {
   "cell_type": "markdown",
   "metadata": {
    "colab_type": "text",
    "id": "MFClJM_rb9ZA"
   },
   "source": [
    "### Teste"
   ]
  },
  {
   "cell_type": "markdown",
   "metadata": {
    "colab_type": "text",
    "id": "bvdhdjlrcjMa"
   },
   "source": [
    "O código abaixo faz a predição para o conjunto de testes e calcula sua acurácia."
   ]
  },
  {
   "cell_type": "code",
   "execution_count": 49,
   "metadata": {
    "colab": {},
    "colab_type": "code",
    "id": "CiAKLt-nONGt",
    "scrolled": true
   },
   "outputs": [
    {
     "name": "stdout",
     "output_type": "stream",
     "text": [
      "Expected: \n",
      "[7 2 1 ... 4 5 6]\n",
      "\n",
      "Predicted: \n",
      "[7 2 1 ... 4 5 6]\n",
      "\n",
      "Final accuracy on tests: 98.030 %\n"
     ]
    }
   ],
   "source": [
    "test_log = []\n",
    "preditions = predict(network, X_test)\n",
    "out = \"[\"\n",
    "\n",
    "print(\"Expected: \")\n",
    "print(y_test)\n",
    "\n",
    "print()\n",
    "print(\"Predicted: \")\n",
    "\n",
    "print(preditions)\n",
    "\n",
    "test_log.append(np.mean(predict(network, X_test) == y_test))\n",
    "our_accuracy = test_log[-1] * 100\n",
    "\n",
    "print()\n",
    "print(\"Final accuracy on tests:\", \"{0:.3f}\".format(our_accuracy), \"%\")\n"
   ]
  },
  {
   "cell_type": "markdown",
   "metadata": {},
   "source": [
    "### Exportação"
   ]
  },
  {
   "cell_type": "markdown",
   "metadata": {},
   "source": [
    "Escrita dos resultados no json"
   ]
  },
  {
   "cell_type": "code",
   "execution_count": 50,
   "metadata": {},
   "outputs": [],
   "source": [
    "with open(\"resultados.json\", \"w\") as json_file:\n",
    "    json_file.write(json.dumps({\"total_time\": our_total_time, \"accuracy\": our_accuracy}))"
   ]
  },
  {
   "cell_type": "markdown",
   "metadata": {},
   "source": [
    "# Comparação dos resultados"
   ]
  },
  {
   "cell_type": "markdown",
   "metadata": {},
   "source": [
    "Neste momento, comparamos todos os solvers do scikit-learn com os solver feito por nós.\n",
    "\n",
    "O solver feito por nós, obteve bons resultados e se comparou aos solvers do scikit-learn\n",
    "\n",
    "Vale ressaltar que, o nosso solver utilizou duas layers escondidas com 128 neurônios cada, enquanto os testes realizados com o scikit-learn foram testados com diferentes configurações de neurônios."
   ]
  },
  {
   "cell_type": "code",
   "execution_count": 51,
   "metadata": {
    "scrolled": true
   },
   "outputs": [
    {
     "data": {
      "image/png": "[encoded data removed]",
      "text/plain": [
       "<Figure size 432x288 with 1 Axes>"
      ]
     },
     "metadata": {
      "needs_background": "light"
     },
     "output_type": "display_data"
    },
    {
     "name": "stdout",
     "output_type": "stream",
     "text": [
      "LBFGS Training: 96.964 %\n",
      "LBFGS Test: 100.000 %\n",
      "SGD Training: 96.221 %\n",
      "SGD Test: 100.000 %\n",
      "ADAM Training: 97.671 %\n",
      "ADAM Test: 99.936 %\n",
      "Our Test: 98.030 %\n"
     ]
    }
   ],
   "source": [
    "objects = (\"LBFGS Training\", \"LBFGS Test\" , \"SGD Training\", \"SGD Test\", \"ADAM Training\", \"ADAM Test\", \"Our Test\")\n",
    "\n",
    "with open(\"resultados.json\", \"r\") as json_file:\n",
    "    json_data = json.loads(json_file.read())\n",
    "\n",
    "\n",
    "scores = []\n",
    "\n",
    "scores.append(lbfgs_test_scores[2])\n",
    "scores.append(lbfgs_training_scores[2])\n",
    "scores.append(sgd_test_scores[2])\n",
    "scores.append(sgd_training_scores[2])\n",
    "scores.append(adam_test_scores[2])\n",
    "scores.append(adam_training_scores[2])\n",
    "scores.append(json_data[\"accuracy\"])\n",
    "\n",
    "y_pos = np.arange(len(objects))\n",
    "\n",
    "plt.bar(y_pos, scores, align='center', alpha=0.5)\n",
    "plt.xticks(y_pos, objects)\n",
    "plt.ylabel('Scores')\n",
    "plt.title(f\"Solvers performances using hidden layers on format {hidden_layers[2]}\")\n",
    "\n",
    "plt.show()\n",
    "\n",
    "for pos, obj in enumerate(objects):\n",
    "    print(obj + \": \" + str(\"{0:.3f}\".format(scores[pos])) + \" %\")"
   ]
  },
  {
   "cell_type": "markdown",
   "metadata": {},
   "source": [
    "Aqui, realizamos os testes com relação ao tempo médio dos testes.\n",
    "\n",
    "É possível observar que o solver feito por nós conseguiu obter um tempo tão bom quanto os solvers do scikit-learn"
   ]
  },
  {
   "cell_type": "code",
   "execution_count": 52,
   "metadata": {},
   "outputs": [
    {
     "data": {
      "image/png": "[encoded data removed]",
      "text/plain": [
       "<Figure size 432x288 with 1 Axes>"
      ]
     },
     "metadata": {
      "needs_background": "light"
     },
     "output_type": "display_data"
    }
   ],
   "source": [
    "objects = (\"LBFGS mean time\", \"SGD mean time\", \"ADAM mean time\", \"Our time\")\n",
    "\n",
    "with open(\"resultados.json\", \"r\") as json_file:\n",
    "    json_data = json.loads(json_file.read())\n",
    "\n",
    "scores = []\n",
    "\n",
    "mean_lbfgs_time = lbfgs_time/6\n",
    "mean_sgd_time = sgd_time/6\n",
    "mean_adam_time = adam_time/6\n",
    "\n",
    "scores.append(mean_lbfgs_time)\n",
    "scores.append(mean_sgd_time)\n",
    "scores.append(mean_adam_time)\n",
    "scores.append(json_data[\"total_time\"])\n",
    "\n",
    "y_pos = np.arange(len(objects))\n",
    "\n",
    "plt.bar(y_pos, scores, align='center', alpha=0.5)\n",
    "plt.xticks(y_pos, objects)\n",
    "plt.ylabel('Usage')\n",
    "plt.title(f\"Mean time between solvers (in seconds)\")\n",
    "\n",
    "plt.show()"
   ]
  }
 ],
 "metadata": {
  "kernelspec": {
   "display_name": "Python 3",
   "language": "python",
   "name": "python3"
  },
  "language_info": {
   "codemirror_mode": {
    "name": "ipython",
    "version": 3
   },
   "file_extension": ".py",
   "mimetype": "text/x-python",
   "name": "python",
   "nbconvert_exporter": "python",
   "pygments_lexer": "ipython3",
   "version": "3.7.2+"
  }
 },
 "nbformat": 4,
 "nbformat_minor": 2
}
