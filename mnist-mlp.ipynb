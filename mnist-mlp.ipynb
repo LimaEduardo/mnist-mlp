{
 "cells": [
  {
   "cell_type": "code",
   "execution_count": 51,
   "metadata": {},
   "outputs": [],
   "source": [
    "%matplotlib inline\n",
    "\n",
    "import warnings\n",
    "import random\n",
    "\n",
    "import numpy as np\n",
    "\n",
    "from sklearn.neural_network import MLPClassifier\n",
    "from sklearn.datasets import fetch_mldata\n",
    "from sklearn.model_selection import train_test_split\n",
    "from sklearn.datasets.base import get_data_home \n",
    "from sklearn.metrics import classification_report,confusion_matrix\n",
    "import matplotlib.pyplot as plt\n",
    "\n"
   ]
  },
  {
   "cell_type": "code",
   "execution_count": 16,
   "metadata": {},
   "outputs": [],
   "source": [
    "TRANING_DATASET_SIZE = 0.8\n",
    "TEST_DATASET_SIZE = 0.2"
   ]
  },
  {
   "cell_type": "code",
   "execution_count": 17,
   "metadata": {},
   "outputs": [
    {
     "name": "stdout",
     "output_type": "stream",
     "text": [
      "Downloading MNIST data\n",
      "Downloading at: /home/eduardo/scikit_learn_data\n",
      "Downloaded and loaded!\n"
     ]
    }
   ],
   "source": [
    "\n",
    "#Ignorando os warnings\n",
    "warnings.filterwarnings(\"ignore\", category=DeprecationWarning)\n",
    "print('Downloading MNIST data')\n",
    "print(f\"Downloading at: {get_data_home()}\")\n",
    "mnist_dataset = fetch_mldata('MNIST original')\n",
    "print('Downloaded and loaded!')\n",
    "    "
   ]
  },
  {
   "cell_type": "code",
   "execution_count": 23,
   "metadata": {},
   "outputs": [
    {
     "name": "stdout",
     "output_type": "stream",
     "text": [
      "Training dataset size: 56000\n",
      "Test dataset size: 56000\n"
     ]
    }
   ],
   "source": [
    "data = mnist_dataset.data\n",
    "target = mnist_dataset.target\n",
    "#mages = mnist_dataset.images\n",
    "\n",
    "data_train, data_test, target_train, target_test = train_test_split(data, target, test_size=TEST_DATASET_SIZE, random_state=42)\n",
    "\n",
    "print(f\"Training dataset size: {len(data_train)}\")\n",
    "print(f\"Test dataset size: {len(target_train)}\")\n"
   ]
  },
  {
   "cell_type": "markdown",
   "metadata": {},
   "source": [
    "Showing some data from training set"
   ]
  },
  {
   "cell_type": "code",
   "execution_count": 31,
   "metadata": {},
   "outputs": [
    {
     "data": {
      "image/png": "[encoded data removed]",
      "text/plain": [
       "<Figure size 432x288 with 10 Axes>"
      ]
     },
     "metadata": {
      "needs_background": "light"
     },
     "output_type": "display_data"
    }
   ],
   "source": [
    "fig, ax = plt.subplots(2,5)\n",
    "for i, ax in enumerate(ax.flatten()):\n",
    "    im_idx = np.argwhere(target == i)[0]\n",
    "    plottable_image = np.reshape(data[im_idx], (28, 28))\n",
    "    ax.imshow(plottable_image, cmap='gray_r')"
   ]
  },
  {
   "cell_type": "code",
   "execution_count": 46,
   "metadata": {},
   "outputs": [
    {
     "data": {
      "text/plain": [
       "<matplotlib.image.AxesImage at 0x7fe8581b1f28>"
      ]
     },
     "execution_count": 46,
     "metadata": {},
     "output_type": "execute_result"
    },
    {
     "data": {
      "image/png": "[encoded data removed]",
      "text/plain": [
       "<Figure size 432x288 with 1 Axes>"
      ]
     },
     "metadata": {
      "needs_background": "light"
     },
     "output_type": "display_data"
    }
   ],
   "source": [
    "fig, ax = plt.subplots(1)\n",
    "im_idx = 34567\n",
    "plottable_image = np.reshape(data[im_idx], (28, 28))\n",
    "ax.imshow(plottable_image, cmap='gray_r')"
   ]
  },
  {
   "cell_type": "code",
   "execution_count": 61,
   "metadata": {},
   "outputs": [
    {
     "name": "stdout",
     "output_type": "stream",
     "text": [
      "\n",
      "\n",
      "0 0 0 0 0 0 0 0 0 0 0 0 0 0 0 0 0 0 0 0 0 0 0 0 0 0 0 0 \n",
      "\n",
      "0 0 0 0 0 0 0 0 0 0 0 0 0 0 0 0 0 0 0 0 0 0 0 0 0 0 0 0 \n",
      "\n",
      "0 0 0 0 0 0 0 0 0 0 0 0 0 0 0 0 0 0 0 0 0 0 0 0 0 0 0 0 \n",
      "\n",
      "0 0 0 0 0 0 0 0 0 0 0 0 0 0 0 0 0 0 0 0 0 0 0 0 0 0 0 0 \n",
      "\n",
      "0 0 0 0 0 0 0 0 0 0 0 0 0 0 0 0 0 0 0 0 0 0 0 0 0 0 0 0 \n",
      "\n",
      "0 0 0 0 0 0 0 0 0 0 0 0 0 0 0 0 0 0 0 0 0 0 0 0 0 0 0 0 \n",
      "\n",
      "0 0 0 0 0 0 0 0 0 0 0 0 0 0 0 0 0 0 0 0 0 0 0 0 0 0 0 0 \n",
      "\n",
      "0 0 0 0 0 0 0 0 0 0 0 0 0 0 0 0 0 0 0 0 0 0 0 0 0 0 0 0 \n",
      "\n",
      "0 0 0 0 0 0 0 0 0 0 0 0 0 0 3 124 221 13 0 0 18 19 66 154 93 0 0 0 \n",
      "\n",
      "0 0 0 0 0 0 0 0 0 0 0 0 0 70 208 254 248 157 200 200 251 230 203 203 117 0 0 0 \n",
      "\n",
      "0 0 0 0 0 0 0 0 0 0 0 4 81 244 253 223 169 169 163 96 49 12 0 0 0 0 0 0 \n",
      "\n",
      "0 0 0 0 0 0 0 0 0 0 38 185 254 254 106 0 0 0 0 0 0 0 0 0 0 0 0 0 \n",
      "\n",
      "0 0 0 0 0 0 0 0 0 6 208 254 254 254 233 226 152 73 2 0 0 0 0 0 0 0 0 0 \n",
      "\n",
      "0 0 0 0 0 0 0 0 0 6 107 165 143 143 143 143 178 254 138 0 0 0 0 0 0 0 0 0 \n",
      "\n",
      "0 0 0 0 0 0 0 0 0 0 0 0 0 0 0 0 5 175 200 0 0 0 0 0 0 0 0 0 \n",
      "\n",
      "0 0 0 0 0 0 0 0 0 0 0 0 0 0 0 0 21 219 189 0 0 0 0 0 0 0 0 0 \n",
      "\n",
      "0 0 0 0 0 98 118 64 12 0 0 0 0 0 0 0 192 254 71 0 0 0 0 0 0 0 0 0 \n",
      "\n",
      "0 0 0 0 0 224 254 254 246 239 155 97 97 98 170 212 237 98 4 0 0 0 0 0 0 0 0 0 \n",
      "\n",
      "0 0 0 0 0 99 213 254 254 254 254 254 254 254 230 135 53 0 0 0 0 0 0 0 0 0 0 0 \n",
      "\n",
      "0 0 0 0 0 0 5 26 110 160 92 92 92 70 11 0 0 0 0 0 0 0 0 0 0 0 0 0 \n",
      "\n",
      "0 0 0 0 0 0 0 0 0 0 0 0 0 0 0 0 0 0 0 0 0 0 0 0 0 0 0 0 \n",
      "\n",
      "0 0 0 0 0 0 0 0 0 0 0 0 0 0 0 0 0 0 0 0 0 0 0 0 0 0 0 0 \n",
      "\n",
      "0 0 0 0 0 0 0 0 0 0 0 0 0 0 0 0 0 0 0 0 0 0 0 0 0 0 0 0 \n",
      "\n",
      "0 0 0 0 0 0 0 0 0 0 0 0 0 0 0 0 0 0 0 0 0 0 0 0 0 0 0 0 \n",
      "\n",
      "0 0 0 0 0 0 0 0 0 0 0 0 0 0 0 0 0 0 0 0 0 0 0 0 0 0 0 0 \n",
      "\n",
      "0 0 0 0 0 0 0 0 0 0 0 0 0 0 0 0 0 0 0 0 0 0 0 0 0 0 0 0 \n",
      "\n",
      "0 0 0 0 0 0 0 0 0 0 0 0 0 0 0 0 0 0 0 0 0 0 0 0 0 0 0 0 \n",
      "\n",
      "0 0 0 0 0 0 0 0 0 0 0 0 0 0 0 0 0 0 0 0 0 0 0 0 0 0 0 0 "
     ]
    }
   ],
   "source": [
    "for index, value in enumerate(data[im_idx]):\n",
    "    if index % 28 == 0: print(\"\\n\")\n",
    "    print(f\"{value} \", end=\"\")"
   ]
  },
  {
   "cell_type": "code",
   "execution_count": 64,
   "metadata": {},
   "outputs": [
    {
     "name": "stdout",
     "output_type": "stream",
     "text": [
      "Fitting model\n",
      "Iteration 1, loss = 1.88263442\n",
      "Iteration 2, loss = 0.95106517\n",
      "Iteration 3, loss = 0.58900822\n",
      "Iteration 4, loss = 0.39582642\n",
      "Iteration 5, loss = 0.29063651\n",
      "Iteration 6, loss = 0.22370837\n",
      "Iteration 7, loss = 0.18948392\n",
      "Iteration 8, loss = 0.16816385\n",
      "Iteration 9, loss = 0.15378313\n",
      "Iteration 10, loss = 0.13937280\n",
      "Iteration 11, loss = 0.12150013\n",
      "Iteration 12, loss = 0.11122868\n",
      "Iteration 13, loss = 0.10104957\n",
      "Iteration 14, loss = 0.09231261\n",
      "Iteration 15, loss = 0.09165674\n",
      "Iteration 16, loss = 0.08105603\n",
      "Iteration 17, loss = 0.07305931\n",
      "Iteration 18, loss = 0.07423507\n",
      "Iteration 19, loss = 0.07722204\n",
      "Iteration 20, loss = 0.06609329\n",
      "Iteration 21, loss = 0.05688731\n",
      "Iteration 22, loss = 0.05706798\n",
      "Iteration 23, loss = 0.05471189\n",
      "Iteration 24, loss = 0.04981782\n",
      "Iteration 25, loss = 0.04649967\n",
      "Iteration 26, loss = 0.04326323\n",
      "Iteration 27, loss = 0.04072887\n",
      "Iteration 28, loss = 0.04229797\n",
      "Iteration 29, loss = 0.03421135\n",
      "Iteration 30, loss = 0.03994108\n",
      "Iteration 31, loss = 0.03746541\n",
      "Iteration 32, loss = 0.03684362\n",
      "Iteration 33, loss = 0.03097252\n",
      "Iteration 34, loss = 0.03003743\n",
      "Iteration 35, loss = 0.02181529\n",
      "Iteration 36, loss = 0.03644320\n",
      "Iteration 37, loss = 0.02768821\n",
      "Iteration 38, loss = 0.02146175\n",
      "Iteration 39, loss = 0.02530322\n",
      "Iteration 40, loss = 0.03379097\n",
      "Iteration 41, loss = 0.02299017\n",
      "Iteration 42, loss = 0.01618504\n",
      "Iteration 43, loss = 0.02417484\n",
      "Iteration 44, loss = 0.02666884\n",
      "Iteration 45, loss = 0.01895396\n",
      "Iteration 46, loss = 0.01881102\n",
      "Iteration 47, loss = 0.02230576\n",
      "Iteration 48, loss = 0.02191533\n",
      "Iteration 49, loss = 0.02039043\n",
      "Iteration 50, loss = 0.02020653\n",
      "Iteration 51, loss = 0.01225659\n",
      "Iteration 52, loss = 0.01350884\n",
      "Iteration 53, loss = 0.01588952\n",
      "Iteration 54, loss = 0.01691226\n",
      "Iteration 55, loss = 0.02088888\n",
      "Iteration 56, loss = 0.01308852\n",
      "Iteration 57, loss = 0.01641425\n",
      "Iteration 58, loss = 0.01191568\n",
      "Iteration 59, loss = 0.01553605\n",
      "Iteration 60, loss = 0.01664440\n",
      "Iteration 61, loss = 0.01464535\n",
      "Iteration 62, loss = 0.01441945\n",
      "Iteration 63, loss = 0.01069640\n",
      "Iteration 64, loss = 0.01740812\n",
      "Iteration 65, loss = 0.00874068\n",
      "Iteration 66, loss = 0.01425578\n",
      "Iteration 67, loss = 0.01529225\n",
      "Iteration 68, loss = 0.01354115\n",
      "Iteration 69, loss = 0.01411641\n",
      "Iteration 70, loss = 0.01011432\n",
      "Iteration 71, loss = 0.00928767\n",
      "Iteration 72, loss = 0.01351695\n",
      "Iteration 73, loss = 0.01877257\n",
      "Iteration 74, loss = 0.01375294\n",
      "Iteration 75, loss = 0.01114890\n",
      "Iteration 76, loss = 0.00984461\n",
      "Training loss did not improve more than tol=0.000100 for 10 consecutive epochs. Stopping.\n",
      "Fitting model ended\n"
     ]
    }
   ],
   "source": [
    "mlp_classifier = MLPClassifier(hidden_layer_sizes=(64,128,64,10), verbose=True, max_iterations=200, alpha=0.0001, tol=1e-4)\n",
    "\n",
    "print(\"Fitting model\")\n",
    "mlp_classifier.fit(data_train,target_train)\n",
    "print(\"Fitting model ended\")"
   ]
  },
  {
   "cell_type": "code",
   "execution_count": 65,
   "metadata": {},
   "outputs": [
    {
     "name": "stdout",
     "output_type": "stream",
     "text": [
      "Starting predictions\n",
      "Ending predictions\n"
     ]
    }
   ],
   "source": [
    "print(\"Starting predictions\")\n",
    "predictions = mlp_classifier.predict(data_test)\n",
    "print(\"Ending predictions\")"
   ]
  },
  {
   "cell_type": "code",
   "execution_count": 66,
   "metadata": {},
   "outputs": [
    {
     "name": "stdout",
     "output_type": "stream",
     "text": [
      "[[1332    0    4    1    0    2    3    0    2    5]\n",
      " [   0 1559    5    4    3    0    3    3    3    1]\n",
      " [   6    1 1369   10    4    1    1    4    3    1]\n",
      " [   0    0   16 1380    0   21    0    6    8    3]\n",
      " [   2    0    1    0 1307    0    2    1    3   12]\n",
      " [   3    6    4   19    2 1225   10    1    8    8]\n",
      " [  11    2    1    0    2    4 1386    0    1    0]\n",
      " [   0    3    9    1    4    2    0 1441    2   14]\n",
      " [  12   12    5    7    2   17    5    1 1325    5]\n",
      " [   1    3    0   11   12    7    1    6    9 1298]]\n"
     ]
    }
   ],
   "source": [
    "print(confusion_matrix(target_test,predictions))"
   ]
  },
  {
   "cell_type": "code",
   "execution_count": 67,
   "metadata": {},
   "outputs": [
    {
     "name": "stdout",
     "output_type": "stream",
     "text": [
      "Training set score: 0.997821\n",
      "Test set score: 0.973000\n"
     ]
    }
   ],
   "source": [
    "print(\"Training set score: %f\" % mlp_classifier.score(data_train, target_train))\n",
    "print(\"Test set score: %f\" % mlp_classifier.score(data_test, target_test))"
   ]
  },
  {
   "cell_type": "code",
   "execution_count": 71,
   "metadata": {},
   "outputs": [
    {
     "data": {
      "image/png": "[encoded data removed]",
      "text/plain": [
       "<Figure size 432x288 with 16 Axes>"
      ]
     },
     "metadata": {},
     "output_type": "display_data"
    }
   ],
   "source": [
    "fig, axes = plt.subplots(4, 4)\n",
    "# use global min / max to ensure all weights mlp_classifier shown on the same scale\n",
    "vmin, vmax = mlp_classifier.coefs_[0].min(), mlp_classifier.coefs_[0].max()\n",
    "for coef, ax in zip(mlp_classifier.coefs_[0].T, axes.ravel()):\n",
    "    ax.matshow(coef.reshape(28, 28), cmap=plt.cm.gray, vmin=.5 * vmin,\n",
    "               vmax=.5 * vmax)\n",
    "    ax.set_xticks(())\n",
    "    ax.set_yticks(())\n",
    "\n",
    "plt.show()"
   ]
  },
  {
   "cell_type": "code",
   "execution_count": null,
   "metadata": {},
   "outputs": [],
   "source": []
  }
 ],
 "metadata": {
  "kernelspec": {
   "display_name": "Python 3",
   "language": "python",
   "name": "python3"
  },
  "language_info": {
   "codemirror_mode": {
    "name": "ipython",
    "version": 3
   },
   "file_extension": ".py",
   "mimetype": "text/x-python",
   "name": "python",
   "nbconvert_exporter": "python",
   "pygments_lexer": "ipython3",
   "version": "3.7.2+"
  }
 },
 "nbformat": 4,
 "nbformat_minor": 2
}
